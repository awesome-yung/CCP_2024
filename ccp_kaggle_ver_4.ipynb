{
 "cells": [
  {
   "cell_type": "code",
   "execution_count": 1,
   "metadata": {},
   "outputs": [
    {
     "name": "stderr",
     "output_type": "stream",
     "text": [
      "/home/oaz/miniconda3/envs/ccp/lib/python3.11/site-packages/tqdm/auto.py:21: TqdmWarning: IProgress not found. Please update jupyter and ipywidgets. See https://ipywidgets.readthedocs.io/en/stable/user_install.html\n",
      "  from .autonotebook import tqdm as notebook_tqdm\n",
      "Downloading 'PASCAL Context': 100%|██████████| 1.21G/1.21G [01:54<00:00, 11.3MB/s]\n",
      "Unpacking 'pascal-context.tar': 100%|██████████| 20209/20209 [00:05<00:00, 3613.03file/s]\n"
     ]
    },
    {
     "data": {
      "text/plain": [
       "'./dataset_/pascal-context'"
      ]
     },
     "execution_count": 1,
     "metadata": {},
     "output_type": "execute_result"
    }
   ],
   "source": [
    "import dataset_tools as dtools\n",
    "\n",
    "dtools.download(dataset='PASCAL Context', dst_dir='./dataset_/')"
   ]
  },
  {
   "cell_type": "code",
   "execution_count": null,
   "metadata": {},
   "outputs": [],
   "source": [
    "from transformers import SegformerForSemanticSegmentation"
   ]
  },
  {
   "cell_type": "code",
   "execution_count": 1,
   "metadata": {},
   "outputs": [
    {
     "name": "stderr",
     "output_type": "stream",
     "text": [
      "/home/oaz/miniconda3/envs/ccp/lib/python3.11/site-packages/tqdm/auto.py:21: TqdmWarning: IProgress not found. Please update jupyter and ipywidgets. See https://ipywidgets.readthedocs.io/en/stable/user_install.html\n",
      "  from .autonotebook import tqdm as notebook_tqdm\n",
      "/home/oaz/miniconda3/envs/ccp/lib/python3.11/site-packages/albumentations/__init__.py:13: UserWarning: A new version of Albumentations is available: 1.4.21 (you have 1.4.14). Upgrade using: pip install -U albumentations. To disable automatic update checks, set the environment variable NO_ALBUMENTATIONS_UPDATE to 1.\n",
      "  check_for_updates()\n"
     ]
    }
   ],
   "source": [
    "from torch.utils.data import Dataset, DataLoader\n",
    "import torch\n",
    "from torch import nn\n",
    "\n",
    "from transformers import get_linear_schedule_with_warmup\n",
    "import albumentations as A\n",
    "from albumentations.pytorch import ToTensorV2\n",
    "import os\n",
    "import cv2\n",
    "import numpy as np\n",
    "import matplotlib.pyplot as plt\n",
    "from PIL import Image\n",
    "# from segmenter import Segmenter\n",
    "from segmenter_ver_2 import create_segmenter"
   ]
  },
  {
   "cell_type": "code",
   "execution_count": 2,
   "metadata": {},
   "outputs": [],
   "source": [
    "VOC_CLASSES = [\n",
    "    \"background\",\n",
    "    \"aeroplane\",\n",
    "    \"bicycle\",\n",
    "    \"bird\",\n",
    "    \"boat\",\n",
    "    \"bottle\",\n",
    "    \"bus\",\n",
    "    \"car\",\n",
    "    \"cat\",\n",
    "    \"chair\",\n",
    "    \"cow\",\n",
    "    \"diningtable\",\n",
    "    \"dog\",\n",
    "    \"horse\",\n",
    "    \"motorbike\",\n",
    "    \"person\",\n",
    "    \"potted plant\",\n",
    "    \"sheep\",\n",
    "    \"sofa\",\n",
    "    \"train\",\n",
    "    \"tv/monitor\",\n",
    "]\n",
    "\n",
    "VOC_COLORMAP = [\n",
    "    [0, 0, 0],\n",
    "    [128, 0, 0],\n",
    "    [0, 128, 0],\n",
    "    [128, 128, 0],\n",
    "    [0, 0, 128],\n",
    "    [128, 0, 128],\n",
    "    [0, 128, 128],\n",
    "    [128, 128, 128],\n",
    "    [64, 0, 0],\n",
    "    [192, 0, 0],\n",
    "    [64, 128, 0],\n",
    "    [192, 128, 0],\n",
    "    [64, 0, 128],\n",
    "    [192, 0, 128],\n",
    "    [64, 128, 128],\n",
    "    [192, 128, 128],\n",
    "    [0, 64, 0],\n",
    "    [128, 64, 0],\n",
    "    [0, 192, 0],\n",
    "    [128, 192, 0],\n",
    "    [0, 64, 128],\n",
    "]\n",
    "\n",
    "class VOCDataset(Dataset):\n",
    "    def __init__(self, root=\"./dataset/pascal_2012/VOCdevkit/VOC2012\",\n",
    "                 is_train=True, transform=None, classes=None):\n",
    "        # Choose the file for training or validation images\n",
    "        if is_train:\n",
    "            img_root = os.path.join(root, \"ImageSets\", \"Segmentation\", \"train.txt\")\n",
    "        else:\n",
    "            img_root = os.path.join(root, \"ImageSets\", \"Segmentation\", \"val.txt\")\n",
    "        \n",
    "        # Get image names into list\n",
    "        img_names = []\n",
    "        with open(img_root, 'r') as rf:\n",
    "            names = [name.replace('\\n','') for name in rf.readlines()]\n",
    "            for name in names:\n",
    "                img_names.append(name)\n",
    "            \n",
    "        self.classes =  classes\n",
    "        self.transform = transform\n",
    "        self.img_names = img_names\n",
    "        self.root = root\n",
    "        \n",
    "    def __len__(self):\n",
    "        return len(self.img_names)\n",
    "    \n",
    "    def _convert_to_segmentation_mask(self, mask):\n",
    "        height, width = mask.shape[:2]\n",
    "        # Initialize an empty mask with a channel for each class\n",
    "        segmentation_mask = np.zeros((height, width, len(VOC_COLORMAP)))\n",
    "        \n",
    "        # Create a mask for each class label\n",
    "        for label_index, label in enumerate(VOC_COLORMAP):\n",
    "            segmentation_mask[:, :, label_index] = np.all(mask == label, axis=-1).astype(float)\n",
    "        \n",
    "        return segmentation_mask\n",
    "\n",
    "    \n",
    "    def __getitem__(self, item):\n",
    "        img_name = self.img_names[item]\n",
    "        # Load the image and corresponding mask\n",
    "        img = cv2.imread(os.path.join(self.root, \"JPEGImages\", img_name + \".jpg\"))\n",
    "        mask = cv2.imread(os.path.join(self.root, \"SegmentationClass\", img_name + \".png\"))\n",
    "        \n",
    "        # Convert BGR to RGB format\n",
    "        img = cv2.cvtColor(img, cv2.COLOR_BGR2RGB)\n",
    "        mask = cv2.cvtColor(mask, cv2.COLOR_BGR2RGB)\n",
    "        \n",
    "        # Convert RGB mask to segmentation mask\n",
    "        mask = self._convert_to_segmentation_mask(mask)\n",
    "        \n",
    "        # Apply transformations if specified\n",
    "        if self.transform:\n",
    "            augmented = self.transform(image=img, mask=mask)\n",
    "            img = augmented['image']\n",
    "            mask = augmented['mask']\n",
    "            mask = mask.argmax(dim=2).squeeze()  # Convert multi-channel mask back to single-channel\n",
    "        \n",
    "        return img, mask"
   ]
  },
  {
   "cell_type": "code",
   "execution_count": null,
   "metadata": {},
   "outputs": [],
   "source": []
  },
  {
   "cell_type": "code",
   "execution_count": 3,
   "metadata": {},
   "outputs": [],
   "source": [
    "def visualize(**images):\n",
    "    \"\"\"PLot images in one row.\"\"\"\n",
    "    n = len(images)\n",
    "    plt.figure(figsize=(16, 5))\n",
    "    for i, (name, image) in enumerate(images.items()):\n",
    "        plt.subplot(1, n, i + 1)\n",
    "        plt.xticks([])\n",
    "        plt.yticks([])\n",
    "        plt.title(' '.join(name.split('_')).title())\n",
    "        plt.imshow(image)\n",
    "    plt.show()"
   ]
  },
  {
   "cell_type": "code",
   "execution_count": 4,
   "metadata": {},
   "outputs": [],
   "source": [
    "trainsform = A.Compose([\n",
    "    A.Resize(224,224),\n",
    "    A.Normalize(mean=(0.485, 0.456, 0.406), std=(0.229, 0.224, 0.225)), \n",
    "    ToTensorV2(),\n",
    "])\n",
    "\n",
    "VOC_dataset = VOCDataset(is_train= True, transform = trainsform)"
   ]
  },
  {
   "cell_type": "code",
   "execution_count": 5,
   "metadata": {},
   "outputs": [
    {
     "name": "stdout",
     "output_type": "stream",
     "text": [
      "266 82\n",
      "Img: torch.Size([3, 224, 224])\n",
      "Mask: torch.Size([224, 224])\n",
      "Max Value Img: tensor(2.6400)\n",
      "Max Value Mask: 18 | Unique Value Mask: tensor([ 0,  9, 16, 18])\n"
     ]
    },
    {
     "name": "stderr",
     "output_type": "stream",
     "text": [
      "Clipping input data to the valid range for imshow with RGB data ([0..1] for floats or [0..255] for integers). Got range [-2.117904..2.6399999].\n",
      "Clipping input data to the valid range for imshow with RGB data ([0..1] for floats or [0..255] for integers). Got range [-2.117904..2.6399999].\n"
     ]
    },
    {
     "data": {
      "image/png": "[encoded data removed]",
      "text/plain": [
       "<Figure size 1600x500 with 4 Axes>"
      ]
     },
     "metadata": {},
     "output_type": "display_data"
    }
   ],
   "source": [
    "idx1, idx2 = np.random.randint(1,500), np.random.randint(1,500)\n",
    "print(idx1,idx2)\n",
    "img, mask = VOC_dataset[idx1]\n",
    "img2, mask2 = VOC_dataset[idx2]\n",
    "print(\"Img:\", img.shape)\n",
    "print(\"Mask:\", mask.shape)\n",
    "print(\"Max Value Img:\",img.max())\n",
    "print(\"Max Value Mask: {} | Unique Value Mask: {}\".format(mask.max(), mask.unique()))\n",
    "\n",
    "visualize(\n",
    "    image1=img.permute(1,2,0), \n",
    "    mask1=mask.squeeze(),\n",
    "    image2 = img2.permute(1,2,0),\n",
    "    mask2 = mask2.squeeze(),\n",
    ")"
   ]
  },
  {
   "cell_type": "code",
   "execution_count": 6,
   "metadata": {},
   "outputs": [],
   "source": [
    "class AverageMeter(object):\n",
    "    \"\"\"Computes and stores the average and current value\"\"\"\n",
    "    def __init__(self):\n",
    "        self.reset()\n",
    "\n",
    "    def reset(self):\n",
    "        self.val = 0\n",
    "        self.avg = 0\n",
    "        self.sum = 0\n",
    "        self.count = 0\n",
    "\n",
    "    def update(self, val, n=1):\n",
    "        self.val = val\n",
    "        self.sum += val * n\n",
    "        self.count += n\n",
    "        self.avg = self.sum / self.count\n",
    "\n",
    "def intersectionAndUnionGPU(output, target, K, ignore_index=255):\n",
    "    # 'K' classes, output and target sizes are N or N * L or N * H * W, each value in range 0 to K - 1.\n",
    "    assert (output.dim() in [1, 2, 3])\n",
    "    assert output.shape == target.shape\n",
    "    output = output.view(-1)\n",
    "    target = target.view(-1)\n",
    "    output[target == ignore_index] = ignore_index\n",
    "    intersection = output[output == target]\n",
    "    area_intersection = torch.histc(intersection, bins=K, min=0, max=K-1)\n",
    "    area_output = torch.histc(output, bins=K, min=0, max=K-1)\n",
    "    area_target = torch.histc(target, bins=K, min=0, max=K-1)\n",
    "    area_union = area_output + area_target - area_intersection\n",
    "    return area_intersection, area_union, area_target"
   ]
  },
  {
   "cell_type": "code",
   "execution_count": 7,
   "metadata": {},
   "outputs": [],
   "source": [
    "# transform_size = 257\n",
    "#Define trainform to images\n",
    "def img_transform(trainsize= 224):\n",
    "    train_transform = A.Compose([\n",
    "    A.Rotate([-10,10]),\n",
    "    A.RandomScale([0.5,2]),\n",
    "    A.GaussianBlur(),\n",
    "    A.HorizontalFlip(),\n",
    "    A.Resize(width=trainsize, height=trainsize),\n",
    "    A.Normalize(mean=(0.485, 0.456, 0.406), std=(0.229, 0.224, 0.225), max_pixel_value=255.0),\n",
    "    ToTensorV2(),\n",
    "    ])\n",
    "\n",
    "    test_transform = A.Compose([\n",
    "        A.Resize(width=trainsize, height=trainsize),\n",
    "        A.Normalize(mean=(0.485, 0.456, 0.406), std=(0.229, 0.224, 0.225), max_pixel_value=255.0),\n",
    "        ToTensorV2(), \n",
    "    ])\n",
    "    return train_transform, test_transform"
   ]
  },
  {
   "cell_type": "code",
   "execution_count": 8,
   "metadata": {},
   "outputs": [],
   "source": [
    "import copy\n",
    "\n",
    "#patience, min_delta, restore_best_weights, best_model, best_loss counter status\n",
    "#copy.deepcopy\n",
    "class EarlyStopping:\n",
    "    def __init__(self, patience=5, min_delta=0, restore_best_weights=False):\n",
    "        self.patience = patience\n",
    "        self.min_delta = min_delta\n",
    "        self.restore_best_weights = restore_best_weights\n",
    "        self.best_model = None\n",
    "        self.best_loss = None\n",
    "        self.counter = 0\n",
    "        self.status = \"\"\n",
    "\n",
    "    def __call__(self, model, val_loss):\n",
    "        \"\"\"\n",
    "        Call method to check if early stopping is triggered.\n",
    "\n",
    "        Args:\n",
    "        model (torch.nn.Module): The model being trained.\n",
    "        val_loss (float): The validation loss of the current epoch.\n",
    "\n",
    "        Returns:\n",
    "        bool: True if early stopping should occur, False otherwise.\n",
    "        \"\"\"\n",
    "        if self.best_loss is None:\n",
    "            self.best_loss = val_loss\n",
    "            self.best_model = copy.deepcopy(model.state_dict())\n",
    "\n",
    "        elif self.best_loss - val_loss > self.min_delta:\n",
    "            self.best_model = copy.deepcopy(model.state_dict())\n",
    "            self.best_loss = val_loss\n",
    "            self.counter = 0\n",
    "\n",
    "        else:\n",
    "            self.counter += 1\n",
    "            if self.counter >= self.patience:\n",
    "                self.status = f\"Stop on {self.counter}\"\n",
    "                if self.restore_best_weights:\n",
    "                    model.load_state_dict(self.best_model)\n",
    "                return True  # Stop training\n",
    "        self.status = f\"{self.counter}/{self.patience}\"\n",
    "        return False # Continue training"
   ]
  },
  {
   "cell_type": "code",
   "execution_count": 9,
   "metadata": {},
   "outputs": [],
   "source": [
    "import matplotlib.pyplot as plt\n",
    "\n",
    "def plot_segmentation_metrics(train_loss, val_loss, train_mean_iou=None, val_mean_iou=None, \n",
    "                              train_dice_score=None, val_dice_score=None):\n",
    "    \"\"\"\n",
    "    Plot training and validation metrics (loss, mean IoU, Dice score) over epochs.\n",
    "\n",
    "    Args:\n",
    "    - train_loss (list): List of training loss values over epochs.\n",
    "    - val_loss (list): List of validation loss values over epochs.\n",
    "    - train_mean_iou (list, optional): List of training mean IoU values over epochs.\n",
    "    - val_mean_iou (list, optional): List of validation mean IoU values over epochs.\n",
    "    - train_dice_score (list, optional): List of training Dice score values over epochs.\n",
    "    - val_dice_score (list, optional): List of validation Dice score values over epochs.\n",
    "    \"\"\"\n",
    "    epochs = range(1, len(train_loss) + 1)\n",
    "    \n",
    "    plt.figure(figsize=(15, 10))\n",
    "    \n",
    "    # Plotting the Loss\n",
    "    plt.subplot(2, 2, 1)\n",
    "    plt.plot(epochs, train_loss, 'r', label='Training Loss')\n",
    "    plt.plot(epochs, val_loss, 'b', label='Test Loss')\n",
    "    plt.title('Training and Test Loss')\n",
    "    plt.xlabel('Epochs')\n",
    "    plt.ylabel('Loss')\n",
    "    plt.legend()\n",
    "    \n",
    "    # Plotting the Mean IoU (if available)\n",
    "    if train_mean_iou and val_mean_iou:\n",
    "        plt.subplot(2, 2, 2)\n",
    "        plt.plot(epochs, train_mean_iou, 'r', label='Training Mean IoU')\n",
    "        plt.plot(epochs, val_mean_iou, 'b', label='Test Mean IoU')\n",
    "        plt.title('Training and Test Mean IoU')\n",
    "        plt.xlabel('Epochs')\n",
    "        plt.ylabel('Mean IoU')\n",
    "        plt.legend()\n",
    "    \n",
    "    # Plotting the Dice Score (if available)\n",
    "    if train_dice_score and val_dice_score:\n",
    "        plt.subplot(2, 2, 3)\n",
    "        plt.plot(epochs, train_dice_score, 'r', label='Training Dice Score')\n",
    "        plt.plot(epochs, val_dice_score, 'b', label='Test Dice Score')\n",
    "        plt.title('Training and Test Dice Score')\n",
    "        plt.xlabel('Epochs')\n",
    "        plt.ylabel('Dice Score')\n",
    "        plt.legend()\n",
    "    \n",
    "    plt.tight_layout()\n",
    "    plt.show()"
   ]
  },
  {
   "cell_type": "code",
   "execution_count": 10,
   "metadata": {},
   "outputs": [],
   "source": [
    "upsample = nn.Upsample(scale_factor=4, mode='bilinear', align_corners=False)"
   ]
  },
  {
   "cell_type": "code",
   "execution_count": 11,
   "metadata": {},
   "outputs": [],
   "source": [
    "# Training fuction\n",
    "def train(model,train_dataloader,device,optimizer, epoch, EPOCHS, writer, train_loss_meter, criterion):\n",
    "    model.train()\n",
    "    train_progress= tqdm(train_dataloader, colour=\"cyan\")\n",
    "    # set up learning rate scheduler\n",
    "    \n",
    "    # print(total_steps, warmup_steps)\n",
    "    \n",
    "    for idx, img_mask in enumerate(train_progress):\n",
    "        img = img_mask[0].float().to(device) #img - B,C,H,W\n",
    "        mask = img_mask[1].long().to(device) #label - B,H,W\n",
    "        # y_pred = model(img).logits #B, 21, H, W\n",
    "        # y_pred =  upsample(y_pred)\n",
    "        # print(\"img shape => \", img.shape)\n",
    "        y_pred = model(img)\n",
    "        #Optimizer \n",
    "        optimizer.zero_grad()\n",
    "        loss = criterion(y_pred, mask) \n",
    "        loss.backward()\n",
    "\n",
    "        torch.nn.utils.clip_grad_value_(model.parameters(), 1)\n",
    "\n",
    "        optimizer.step()\n",
    "        # scheduler.step()\n",
    "        \n",
    "        \n",
    "        train_loss_meter.update(loss.item())\n",
    "        \n",
    "        # tracking the loss function\n",
    "        writer.add_scalar(\"Train/Loss\", train_loss_meter.avg, epoch*len(train_dataloader)+idx)\n",
    "        \n",
    "        train_progress.set_description(\"TRAIN| Epoch: {}/{}| Iter: {}/{} | Train Loss: {:0.4f} | lr: {}\".format(\n",
    "            epoch+1, EPOCHS, idx, len(train_dataloader), loss, optimizer.param_groups[0]['lr']))\n",
    "        \n",
    "    return train_loss_meter.avg"
   ]
  },
  {
   "cell_type": "code",
   "execution_count": 12,
   "metadata": {},
   "outputs": [],
   "source": [
    "#Evaluate function\n",
    "def evaluate(model,val_dataloader,device, num_classes, intersection_meter, union_meter, target_meter, test_loss_meter, criterion):\n",
    "    model.eval()\n",
    "    \n",
    "    with torch.no_grad():\n",
    "        for idx, img_mask in enumerate(val_dataloader):\n",
    "            img = img_mask[0].float().to(device)\n",
    "            mask = img_mask[1].long().to(device) #B W H\n",
    "\n",
    "            # y_pred = model(img).logits #B, 21, H, W\n",
    "            # y_pred = upsample(y_pred)\n",
    "\n",
    "            y_pred = model(img)\n",
    "            \n",
    "            loss = criterion(y_pred, mask) \n",
    "            test_loss_meter.update(loss.item()) \n",
    "            \n",
    "            # (B, 21, H, W) -> (B, 1, H, W) -> (B, H, W)\n",
    "            y_pred = y_pred.argmax(dim=1).squeeze(dim=1)\n",
    "            intersection, union, target = intersectionAndUnionGPU(y_pred.float(), mask.float(), num_classes)\n",
    "            intersection, union, target = intersection.cpu().numpy(), union.cpu().numpy(), target.cpu().numpy()\n",
    "            intersection_meter.update(intersection), union_meter.update(union), target_meter.update(target)\n",
    "            \n",
    "            if idx>35: break\n",
    "            \n",
    "        #compute acc, iou, dice\n",
    "        accuracy_class = intersection_meter.sum / (target_meter.sum + 1e-10)\n",
    "        iou_class = intersection_meter.sum / (union_meter.sum + 1e-10)\n",
    "        dice_class = (2 * intersection_meter.sum) / (intersection_meter.sum + union_meter.sum + 1e-10) #vector 21D\n",
    "        macc = np.mean(accuracy_class)\n",
    "        miou = np.mean(iou_class) #mean vector 21D\n",
    "        mdice = np.mean(dice_class) #mean vector 21D\n",
    "        \n",
    "    return macc, miou, mdice, test_loss_meter.avg"
   ]
  },
  {
   "cell_type": "code",
   "execution_count": 13,
   "metadata": {},
   "outputs": [],
   "source": [
    "from torch.utils.tensorboard import SummaryWriter\n",
    "import torch.optim as optim\n",
    "import torch.nn.functional as F\n",
    "\n",
    "import segmentation_models_pytorch as smp\n",
    "import shutil\n",
    "from tqdm import tqdm\n",
    "# from transformers import SegformerForSemanticSegmentation, SegformerConfig"
   ]
  },
  {
   "cell_type": "code",
   "execution_count": 14,
   "metadata": {},
   "outputs": [],
   "source": [
    "def main(learning_rate, batch_size, epochs, num_workers, data_path, model_save_path, tensorboard_path, num_classes, checkpoint_path):\n",
    "    \n",
    "    # Create model save directory if it doesn't exist\n",
    "    if not os.path.isdir(model_save_path):\n",
    "        os.mkdir(model_save_path)\n",
    "    # Creater tensorboard directory\n",
    "    if os.path.isdir(tensorboard_path):\n",
    "        shutil.rmtree(tensorboard_path)\n",
    "    os.mkdir(tensorboard_path)\n",
    "    \n",
    "    \n",
    "    # Data augmentation and preprocessing for training and testing\n",
    "    train_transform, test_transform = img_transform()\n",
    "    \n",
    "    # Create datasets and dataloaders\n",
    "    train_dataset = VOCDataset(is_train=True, transform=train_transform)\n",
    "    test_dataset = VOCDataset(is_train=False, transform=test_transform)\n",
    "\n",
    "    train_dataloader = DataLoader(dataset=train_dataset, batch_size=batch_size, num_workers=num_workers, shuffle=True, drop_last=True)\n",
    "    val_dataloader = DataLoader(dataset=test_dataset, batch_size=batch_size, num_workers=num_workers, shuffle=False, drop_last=True)\n",
    "    \n",
    "    device = torch.device(\"cuda\" if torch.cuda.is_available() else \"cpu\") \n",
    "    \n",
    "    # Load model and move it to the appropriate device\n",
    "    # segformer_version = \"nvidia/segformer-b3-finetuned-ade-512-512\"\n",
    "    # model = SegformerForSemanticSegmentation.from_pretrained(segformer_version)\n",
    "    # in_channels = model.decode_head.classifier.in_channels\n",
    "    # model.decode_head.classifier = torch.nn.Conv2d(in_channels, num_classes, kernel_size=(1, 1), stride=(1, 1))\n",
    "\n",
    "    # # segmenter 선언\n",
    "    # model = Segmenter(backbone='vit_base_patch16_384', \n",
    "    #                   num_classes=21, \n",
    "    #                   image_size=384, \n",
    "    #                   emb_dim=768,\n",
    "    #                   hidden_dim=3082,\n",
    "    #                   num_layers=12,\n",
    "    #                   num_heads=12)\n",
    "    # Deeplab 선언\n",
    "    model_config = {\"n_cls\": 21,  \n",
    "                    \"image_size\": (224, 224),\n",
    "                    \"patch_size\": 16,\n",
    "                    \"decoder\": {              \n",
    "                         \"name\": \"mask_transformer\",\n",
    "                         \"n_layers\":12,\n",
    "                         \"drop_path_rate\": 0.2,\n",
    "                         'dropout':0.1\n",
    "                        },\n",
    "                    \"d_model\": 768,\n",
    "                    \"backbone\": \"vit_base_patch16_224.orig_in21k_ft_in1k\",\n",
    "                    \"n_layers\": 12,\n",
    "                    \"n_heads\": 12\n",
    "                    }\n",
    "                         \n",
    "    model = create_segmenter(model_config)\n",
    "    \n",
    "\n",
    "    # Segformer 선언\n",
    "    # segformer_version = \"nvidia/segformer-b3-finetuned-ade-512-512\"\n",
    "    # model = SegformerForSemanticSegmentation.from_pretrained(segformer_version)\n",
    "    # in_channels = model.decode_head.classifier.in_channels\n",
    "    # model.decode_head.classifier = torch.nn.Conv2d(in_channels, num_classes, kernel_size=(1, 1), stride=(1, 1))\n",
    "\n",
    "    # model_save_path = \"./working/trained_model/\"  # 예: \"path/to/model/directory\"\n",
    "    # checkpoint_path = os.path.join(model_save_path, \"best.h5\")\n",
    "    # if os.path.exists(checkpoint_path):\n",
    "    #     checkpoint = torch.load(checkpoint_path)\n",
    "    #     model.load_state_dict(checkpoint['model_state_dict'])\n",
    "\n",
    "    \n",
    "    model.to(device)\n",
    "    \n",
    "    # Initialize optimizer and loss function\n",
    "    # num_classes = 21\n",
    "    # class_weights = [0.1] + [1.0] * (num_classes - 1)\n",
    "    optimizer = optim.Adam(model.parameters(), lr=learning_rate)\n",
    "    criterion = smp.losses.DiceLoss(mode=\"multiclass\", classes = num_classes, log_loss = False, from_logits = True, smooth=1e-8,ignore_index=0)\n",
    "    \n",
    "    # Best validation IoU for saving the best model\n",
    "    best_predict = -1\n",
    "    current_epoch = 0\n",
    "                                   \n",
    "    # Metrics\n",
    "    train_loss_list = []\n",
    "    test_loss_list = []\n",
    "    train_loss_meter = AverageMeter()\n",
    "    test_loss_meter = AverageMeter()\n",
    "    intersection_meter = AverageMeter()\n",
    "    union_meter = AverageMeter()\n",
    "    target_meter = AverageMeter()\n",
    "    \n",
    "    # Early Stop\n",
    "    es = EarlyStopping(patience=14,restore_best_weights=False)\n",
    "    \n",
    "    # # set up learning rate scheduler\n",
    "    total_steps = len(train_dataloader) * epochs\n",
    "    warmup_steps = int(total_steps * 0.001)\n",
    "    # scheduler= optim.lr_scheduler.ReduceLROnPlateau(optimizer, mode='min', factor=0.1, patience=4, threshold= 1e-4, min_lr=0)\n",
    "    scheduler = get_linear_schedule_with_warmup(\n",
    "        optimizer,\n",
    "        num_warmup_steps=warmup_steps,  # Warm-up steps\n",
    "        num_training_steps=total_steps  # Total training steps\n",
    "    )\n",
    "    # difine Tensorboard    \n",
    "    # print(\"step = \", total_steps, warmup_steps)\n",
    "    writer = SummaryWriter(tensorboard_path)\n",
    "    \n",
    "    \n",
    "    # Training loop\n",
    "    for epoch in range(current_epoch,epochs): #EPOCHS\n",
    "        intersection_meter.reset()\n",
    "        union_meter.reset()\n",
    "        target_meter.reset()\n",
    "        \n",
    "        #Start training model\n",
    "        train_loss = train(model,train_dataloader,device,optimizer, epoch, epochs, writer, train_loss_meter,criterion)\n",
    "        acc, miou, dice, test_loss = evaluate(model,val_dataloader,device, num_classes, intersection_meter, union_meter, target_meter, test_loss_meter, criterion)\n",
    "        \n",
    "        train_loss_list.append(train_loss)\n",
    "        test_loss_list.append(test_loss)\n",
    "        \n",
    "        # write in tensorboard\n",
    "        writer.add_scalar(\"Test/Acc\", acc, epoch)\n",
    "        writer.add_scalar(\"Test/mIOU\", miou, epoch)\n",
    "        writer.add_scalar(\"Test/Dice\", dice, epoch)\n",
    "        \n",
    "        # update learning rate\n",
    "        # scheduler.step(1-miou)\n",
    "        scheduler.step()\n",
    "\n",
    "        #Create checkpoint\n",
    "        checkpoint = {\n",
    "            \"model_state_dict\": model.state_dict(),\n",
    "            \"epoch\": epoch, \n",
    "            \"optimizer_state_dict\": optimizer.state_dict(),\n",
    "            \"miou\": miou\n",
    "        }\n",
    "        \n",
    "        # Save last checkpoint\n",
    "        torch.save(checkpoint, os.path.join(model_save_path, \"last.h5\"))\n",
    "        \n",
    "        # Save best checkpoint based on dice score\n",
    "        if miou > best_predict:\n",
    "            torch.save(checkpoint, os.path.join(model_save_path, \"best.h5\"))\n",
    "            best_predict = miou\n",
    "            \n",
    "        if es(model, 1-miou):\n",
    "            print(f\"Early stopping triggered at epoch {epoch + 1}\")\n",
    "            break\n",
    "            \n",
    "        print(\"VAL| Acc:{:0.4f}  | mIOU: {:0.4f} | Dice: {:0.4f} | Test Loss: {:0.4f}| EStop: {}\".format(\n",
    "             acc, miou, dice, test_loss, es.status))\n",
    "        \n",
    "    #show tracking plot\n",
    "    plot_segmentation_metrics(train_loss_list, test_loss_list)"
   ]
  },
  {
   "cell_type": "code",
   "execution_count": null,
   "metadata": {},
   "outputs": [
    {
     "name": "stdout",
     "output_type": "stream",
     "text": [
      "model load\n"
     ]
    },
    {
     "name": "stderr",
     "output_type": "stream",
     "text": [
      "TRAIN| Epoch: 1/50| Iter: 44/45 | Train Loss: 0.8672 | lr: 0.0: 100%|\u001b[36m██████████\u001b[0m| 45/45 [02:36<00:00,  3.48s/it]\n"
     ]
    },
    {
     "name": "stdout",
     "output_type": "stream",
     "text": [
      "VAL| Acc:0.0327  | mIOU: 0.0076 | Dice: 0.0150 | Test Loss: 0.7751| EStop: 0/14\n"
     ]
    },
    {
     "name": "stderr",
     "output_type": "stream",
     "text": [
      "TRAIN| Epoch: 2/50| Iter: 44/45 | Train Loss: 0.7780 | lr: 5e-06: 100%|\u001b[36m██████████\u001b[0m| 45/45 [02:35<00:00,  3.47s/it]\n"
     ]
    },
    {
     "name": "stdout",
     "output_type": "stream",
     "text": [
      "VAL| Acc:0.1347  | mIOU: 0.0294 | Dice: 0.0554 | Test Loss: 0.7751| EStop: 0/14\n"
     ]
    },
    {
     "name": "stderr",
     "output_type": "stream",
     "text": [
      "TRAIN| Epoch: 3/50| Iter: 44/45 | Train Loss: 0.8206 | lr: 1e-05: 100%|\u001b[36m██████████\u001b[0m| 45/45 [02:35<00:00,  3.45s/it]\n"
     ]
    },
    {
     "name": "stdout",
     "output_type": "stream",
     "text": [
      "VAL| Acc:0.3027  | mIOU: 0.0653 | Dice: 0.1165 | Test Loss: 0.7750| EStop: 0/14\n"
     ]
    },
    {
     "name": "stderr",
     "output_type": "stream",
     "text": [
      "TRAIN| Epoch: 4/50| Iter: 44/45 | Train Loss: 0.8669 | lr: 9.995551601423488e-06: 100%|\u001b[36m██████████\u001b[0m| 45/45 [02:29<00:00,  3.33s/it]\n"
     ]
    },
    {
     "name": "stdout",
     "output_type": "stream",
     "text": [
      "VAL| Acc:0.2500  | mIOU: 0.0653 | Dice: 0.1094 | Test Loss: 0.7749| EStop: 1/14\n"
     ]
    },
    {
     "name": "stderr",
     "output_type": "stream",
     "text": [
      "TRAIN| Epoch: 5/50| Iter: 44/45 | Train Loss: 0.6793 | lr: 9.991103202846976e-06: 100%|\u001b[36m██████████\u001b[0m| 45/45 [02:37<00:00,  3.50s/it]\n"
     ]
    },
    {
     "name": "stdout",
     "output_type": "stream",
     "text": [
      "VAL| Acc:0.2364  | mIOU: 0.0308 | Dice: 0.0547 | Test Loss: 0.7735| EStop: 2/14\n"
     ]
    },
    {
     "name": "stderr",
     "output_type": "stream",
     "text": [
      "TRAIN| Epoch: 6/50| Iter: 44/45 | Train Loss: 0.8045 | lr: 9.986654804270463e-06: 100%|\u001b[36m██████████\u001b[0m| 45/45 [02:35<00:00,  3.45s/it]\n"
     ]
    },
    {
     "name": "stdout",
     "output_type": "stream",
     "text": [
      "VAL| Acc:0.4079  | mIOU: 0.0929 | Dice: 0.1539 | Test Loss: 0.7632| EStop: 0/14\n"
     ]
    },
    {
     "name": "stderr",
     "output_type": "stream",
     "text": [
      "TRAIN| Epoch: 7/50| Iter: 44/45 | Train Loss: 0.7363 | lr: 9.98220640569395e-06: 100%|\u001b[36m██████████\u001b[0m| 45/45 [02:37<00:00,  3.50s/it]\n"
     ]
    },
    {
     "name": "stdout",
     "output_type": "stream",
     "text": [
      "VAL| Acc:0.4505  | mIOU: 0.0946 | Dice: 0.1583 | Test Loss: 0.7541| EStop: 0/14\n"
     ]
    },
    {
     "name": "stderr",
     "output_type": "stream",
     "text": [
      "TRAIN| Epoch: 8/50| Iter: 44/45 | Train Loss: 0.7833 | lr: 9.977758007117438e-06: 100%|\u001b[36m██████████\u001b[0m| 45/45 [02:34<00:00,  3.42s/it]\n"
     ]
    },
    {
     "name": "stdout",
     "output_type": "stream",
     "text": [
      "VAL| Acc:0.4597  | mIOU: 0.0932 | Dice: 0.1567 | Test Loss: 0.7468| EStop: 1/14\n"
     ]
    },
    {
     "name": "stderr",
     "output_type": "stream",
     "text": [
      "TRAIN| Epoch: 9/50| Iter: 44/45 | Train Loss: 0.5831 | lr: 9.973309608540927e-06: 100%|\u001b[36m██████████\u001b[0m| 45/45 [02:36<00:00,  3.49s/it]\n"
     ]
    },
    {
     "name": "stdout",
     "output_type": "stream",
     "text": [
      "VAL| Acc:0.4806  | mIOU: 0.1062 | Dice: 0.1762 | Test Loss: 0.7404| EStop: 0/14\n"
     ]
    },
    {
     "name": "stderr",
     "output_type": "stream",
     "text": [
      "TRAIN| Epoch: 10/50| Iter: 44/45 | Train Loss: 0.7346 | lr: 9.968861209964413e-06: 100%|\u001b[36m██████████\u001b[0m| 45/45 [02:31<00:00,  3.36s/it]\n"
     ]
    },
    {
     "name": "stdout",
     "output_type": "stream",
     "text": [
      "VAL| Acc:0.4972  | mIOU: 0.0960 | Dice: 0.1616 | Test Loss: 0.7354| EStop: 1/14\n"
     ]
    },
    {
     "name": "stderr",
     "output_type": "stream",
     "text": [
      "TRAIN| Epoch: 11/50| Iter: 44/45 | Train Loss: 0.7093 | lr: 9.964412811387902e-06: 100%|\u001b[36m██████████\u001b[0m| 45/45 [02:32<00:00,  3.40s/it]\n"
     ]
    },
    {
     "name": "stdout",
     "output_type": "stream",
     "text": [
      "VAL| Acc:0.5014  | mIOU: 0.1041 | Dice: 0.1723 | Test Loss: 0.7311| EStop: 2/14\n"
     ]
    },
    {
     "name": "stderr",
     "output_type": "stream",
     "text": [
      "TRAIN| Epoch: 12/50| Iter: 44/45 | Train Loss: 0.6803 | lr: 9.95996441281139e-06: 100%|\u001b[36m██████████\u001b[0m| 45/45 [02:35<00:00,  3.46s/it]\n"
     ]
    },
    {
     "name": "stdout",
     "output_type": "stream",
     "text": [
      "VAL| Acc:0.4772  | mIOU: 0.1068 | Dice: 0.1764 | Test Loss: 0.7277| EStop: 0/14\n"
     ]
    },
    {
     "name": "stderr",
     "output_type": "stream",
     "text": [
      "TRAIN| Epoch: 13/50| Iter: 44/45 | Train Loss: 0.7040 | lr: 9.955516014234877e-06: 100%|\u001b[36m██████████\u001b[0m| 45/45 [02:43<00:00,  3.64s/it]\n"
     ]
    },
    {
     "name": "stdout",
     "output_type": "stream",
     "text": [
      "VAL| Acc:0.5030  | mIOU: 0.1032 | Dice: 0.1717 | Test Loss: 0.7244| EStop: 1/14\n"
     ]
    },
    {
     "name": "stderr",
     "output_type": "stream",
     "text": [
      "TRAIN| Epoch: 14/50| Iter: 44/45 | Train Loss: 0.7442 | lr: 9.951067615658364e-06: 100%|\u001b[36m██████████\u001b[0m| 45/45 [02:34<00:00,  3.43s/it]\n"
     ]
    },
    {
     "name": "stdout",
     "output_type": "stream",
     "text": [
      "VAL| Acc:0.5080  | mIOU: 0.1003 | Dice: 0.1671 | Test Loss: 0.7217| EStop: 2/14\n"
     ]
    },
    {
     "name": "stderr",
     "output_type": "stream",
     "text": [
      "TRAIN| Epoch: 15/50| Iter: 44/45 | Train Loss: 0.5602 | lr: 9.946619217081852e-06: 100%|\u001b[36m██████████\u001b[0m| 45/45 [02:33<00:00,  3.42s/it]\n"
     ]
    },
    {
     "name": "stdout",
     "output_type": "stream",
     "text": [
      "VAL| Acc:0.5056  | mIOU: 0.1054 | Dice: 0.1737 | Test Loss: 0.7196| EStop: 3/14\n"
     ]
    },
    {
     "name": "stderr",
     "output_type": "stream",
     "text": [
      "TRAIN| Epoch: 16/50| Iter: 44/45 | Train Loss: 0.6780 | lr: 9.942170818505339e-06: 100%|\u001b[36m██████████\u001b[0m| 45/45 [02:31<00:00,  3.37s/it]\n"
     ]
    },
    {
     "name": "stdout",
     "output_type": "stream",
     "text": [
      "VAL| Acc:0.5049  | mIOU: 0.1032 | Dice: 0.1710 | Test Loss: 0.7176| EStop: 4/14\n"
     ]
    },
    {
     "name": "stderr",
     "output_type": "stream",
     "text": [
      "TRAIN| Epoch: 17/50| Iter: 44/45 | Train Loss: 0.6256 | lr: 9.937722419928827e-06: 100%|\u001b[36m██████████\u001b[0m| 45/45 [02:35<00:00,  3.45s/it]\n"
     ]
    },
    {
     "name": "stdout",
     "output_type": "stream",
     "text": [
      "VAL| Acc:0.5044  | mIOU: 0.1052 | Dice: 0.1738 | Test Loss: 0.7159| EStop: 5/14\n"
     ]
    },
    {
     "name": "stderr",
     "output_type": "stream",
     "text": [
      "TRAIN| Epoch: 18/50| Iter: 44/45 | Train Loss: 0.6705 | lr: 9.933274021352314e-06: 100%|\u001b[36m██████████\u001b[0m| 45/45 [02:34<00:00,  3.44s/it]\n"
     ]
    },
    {
     "name": "stdout",
     "output_type": "stream",
     "text": [
      "VAL| Acc:0.5029  | mIOU: 0.1071 | Dice: 0.1769 | Test Loss: 0.7144| EStop: 0/14\n"
     ]
    },
    {
     "name": "stderr",
     "output_type": "stream",
     "text": [
      "TRAIN| Epoch: 19/50| Iter: 44/45 | Train Loss: 0.7259 | lr: 9.928825622775801e-06: 100%|\u001b[36m██████████\u001b[0m| 45/45 [02:33<00:00,  3.41s/it]\n"
     ]
    },
    {
     "name": "stdout",
     "output_type": "stream",
     "text": [
      "VAL| Acc:0.4958  | mIOU: 0.1099 | Dice: 0.1812 | Test Loss: 0.7130| EStop: 0/14\n"
     ]
    },
    {
     "name": "stderr",
     "output_type": "stream",
     "text": [
      "TRAIN| Epoch: 20/50| Iter: 44/45 | Train Loss: 0.6352 | lr: 9.924377224199289e-06: 100%|\u001b[36m██████████\u001b[0m| 45/45 [02:31<00:00,  3.37s/it]\n"
     ]
    },
    {
     "name": "stdout",
     "output_type": "stream",
     "text": [
      "VAL| Acc:0.5208  | mIOU: 0.1127 | Dice: 0.1887 | Test Loss: 0.7116| EStop: 0/14\n"
     ]
    },
    {
     "name": "stderr",
     "output_type": "stream",
     "text": [
      "TRAIN| Epoch: 21/50| Iter: 44/45 | Train Loss: 0.7913 | lr: 9.919928825622776e-06: 100%|\u001b[36m██████████\u001b[0m| 45/45 [02:34<00:00,  3.43s/it]\n"
     ]
    },
    {
     "name": "stdout",
     "output_type": "stream",
     "text": [
      "VAL| Acc:0.5149  | mIOU: 0.1199 | Dice: 0.1978 | Test Loss: 0.7103| EStop: 0/14\n"
     ]
    },
    {
     "name": "stderr",
     "output_type": "stream",
     "text": [
      "TRAIN| Epoch: 22/50| Iter: 44/45 | Train Loss: 0.6770 | lr: 9.915480427046265e-06: 100%|\u001b[36m██████████\u001b[0m| 45/45 [02:36<00:00,  3.48s/it]\n"
     ]
    },
    {
     "name": "stdout",
     "output_type": "stream",
     "text": [
      "VAL| Acc:0.5151  | mIOU: 0.1211 | Dice: 0.1976 | Test Loss: 0.7091| EStop: 0/14\n"
     ]
    },
    {
     "name": "stderr",
     "output_type": "stream",
     "text": [
      "TRAIN| Epoch: 23/50| Iter: 44/45 | Train Loss: 0.7621 | lr: 9.911032028469751e-06: 100%|\u001b[36m██████████\u001b[0m| 45/45 [02:28<00:00,  3.31s/it]\n"
     ]
    },
    {
     "name": "stdout",
     "output_type": "stream",
     "text": [
      "VAL| Acc:0.5204  | mIOU: 0.1070 | Dice: 0.1788 | Test Loss: 0.7081| EStop: 1/14\n"
     ]
    },
    {
     "name": "stderr",
     "output_type": "stream",
     "text": [
      "TRAIN| Epoch: 24/50| Iter: 44/45 | Train Loss: 0.7340 | lr: 9.90658362989324e-06: 100%|\u001b[36m██████████\u001b[0m| 45/45 [02:33<00:00,  3.41s/it]\n"
     ]
    },
    {
     "name": "stdout",
     "output_type": "stream",
     "text": [
      "VAL| Acc:0.5219  | mIOU: 0.1098 | Dice: 0.1844 | Test Loss: 0.7070| EStop: 2/14\n"
     ]
    },
    {
     "name": "stderr",
     "output_type": "stream",
     "text": [
      "TRAIN| Epoch: 25/50| Iter: 44/45 | Train Loss: 0.8072 | lr: 9.902135231316726e-06: 100%|\u001b[36m██████████\u001b[0m| 45/45 [02:33<00:00,  3.40s/it]\n"
     ]
    },
    {
     "name": "stdout",
     "output_type": "stream",
     "text": [
      "VAL| Acc:0.5119  | mIOU: 0.1150 | Dice: 0.1893 | Test Loss: 0.7061| EStop: 3/14\n"
     ]
    },
    {
     "name": "stderr",
     "output_type": "stream",
     "text": [
      "TRAIN| Epoch: 26/50| Iter: 44/45 | Train Loss: 0.7140 | lr: 9.897686832740213e-06: 100%|\u001b[36m██████████\u001b[0m| 45/45 [02:38<00:00,  3.53s/it]\n"
     ]
    },
    {
     "name": "stdout",
     "output_type": "stream",
     "text": [
      "VAL| Acc:0.5221  | mIOU: 0.1161 | Dice: 0.1926 | Test Loss: 0.7054| EStop: 4/14\n"
     ]
    },
    {
     "name": "stderr",
     "output_type": "stream",
     "text": [
      "TRAIN| Epoch: 27/50| Iter: 44/45 | Train Loss: 0.6687 | lr: 9.893238434163703e-06: 100%|\u001b[36m██████████\u001b[0m| 45/45 [02:34<00:00,  3.43s/it]\n"
     ]
    },
    {
     "name": "stdout",
     "output_type": "stream",
     "text": [
      "VAL| Acc:0.5271  | mIOU: 0.1104 | Dice: 0.1849 | Test Loss: 0.7046| EStop: 5/14\n"
     ]
    },
    {
     "name": "stderr",
     "output_type": "stream",
     "text": [
      "TRAIN| Epoch: 28/50| Iter: 44/45 | Train Loss: 0.5900 | lr: 9.888790035587188e-06: 100%|\u001b[36m██████████\u001b[0m| 45/45 [02:33<00:00,  3.41s/it]\n"
     ]
    },
    {
     "name": "stdout",
     "output_type": "stream",
     "text": [
      "VAL| Acc:0.5235  | mIOU: 0.1149 | Dice: 0.1916 | Test Loss: 0.7038| EStop: 6/14\n"
     ]
    },
    {
     "name": "stderr",
     "output_type": "stream",
     "text": [
      "TRAIN| Epoch: 29/50| Iter: 44/45 | Train Loss: 0.6670 | lr: 9.884341637010677e-06: 100%|\u001b[36m██████████\u001b[0m| 45/45 [02:31<00:00,  3.37s/it]\n"
     ]
    },
    {
     "name": "stdout",
     "output_type": "stream",
     "text": [
      "VAL| Acc:0.5086  | mIOU: 0.1139 | Dice: 0.1876 | Test Loss: 0.7031| EStop: 7/14\n"
     ]
    },
    {
     "name": "stderr",
     "output_type": "stream",
     "text": [
      "TRAIN| Epoch: 30/50| Iter: 44/45 | Train Loss: 0.7172 | lr: 9.879893238434165e-06: 100%|\u001b[36m██████████\u001b[0m| 45/45 [02:31<00:00,  3.37s/it]\n"
     ]
    },
    {
     "name": "stdout",
     "output_type": "stream",
     "text": [
      "VAL| Acc:0.5189  | mIOU: 0.1110 | Dice: 0.1861 | Test Loss: 0.7024| EStop: 8/14\n"
     ]
    },
    {
     "name": "stderr",
     "output_type": "stream",
     "text": [
      "TRAIN| Epoch: 31/50| Iter: 44/45 | Train Loss: 0.6075 | lr: 9.875444839857652e-06: 100%|\u001b[36m██████████\u001b[0m| 45/45 [02:32<00:00,  3.39s/it]\n"
     ]
    },
    {
     "name": "stdout",
     "output_type": "stream",
     "text": [
      "VAL| Acc:0.5160  | mIOU: 0.1086 | Dice: 0.1831 | Test Loss: 0.7018| EStop: 9/14\n"
     ]
    },
    {
     "name": "stderr",
     "output_type": "stream",
     "text": [
      "TRAIN| Epoch: 32/50| Iter: 44/45 | Train Loss: 0.6984 | lr: 9.87099644128114e-06: 100%|\u001b[36m██████████\u001b[0m| 45/45 [02:35<00:00,  3.46s/it]\n"
     ]
    },
    {
     "name": "stdout",
     "output_type": "stream",
     "text": [
      "VAL| Acc:0.5231  | mIOU: 0.1071 | Dice: 0.1807 | Test Loss: 0.7012| EStop: 10/14\n"
     ]
    },
    {
     "name": "stderr",
     "output_type": "stream",
     "text": [
      "TRAIN| Epoch: 33/50| Iter: 44/45 | Train Loss: 0.5960 | lr: 9.866548042704627e-06: 100%|\u001b[36m██████████\u001b[0m| 45/45 [02:31<00:00,  3.36s/it]\n"
     ]
    },
    {
     "name": "stdout",
     "output_type": "stream",
     "text": [
      "VAL| Acc:0.5151  | mIOU: 0.1073 | Dice: 0.1814 | Test Loss: 0.7007| EStop: 11/14\n"
     ]
    },
    {
     "name": "stderr",
     "output_type": "stream",
     "text": [
      "TRAIN| Epoch: 34/50| Iter: 44/45 | Train Loss: 0.6786 | lr: 9.862099644128115e-06: 100%|\u001b[36m██████████\u001b[0m| 45/45 [02:31<00:00,  3.38s/it]\n"
     ]
    },
    {
     "name": "stdout",
     "output_type": "stream",
     "text": [
      "VAL| Acc:0.5212  | mIOU: 0.1113 | Dice: 0.1870 | Test Loss: 0.7002| EStop: 12/14\n"
     ]
    },
    {
     "name": "stderr",
     "output_type": "stream",
     "text": [
      "TRAIN| Epoch: 35/50| Iter: 44/45 | Train Loss: 0.7081 | lr: 9.857651245551602e-06: 100%|\u001b[36m██████████\u001b[0m| 45/45 [02:33<00:00,  3.42s/it]\n"
     ]
    },
    {
     "name": "stdout",
     "output_type": "stream",
     "text": [
      "VAL| Acc:0.5246  | mIOU: 0.1108 | Dice: 0.1854 | Test Loss: 0.6997| EStop: 13/14\n"
     ]
    },
    {
     "name": "stderr",
     "output_type": "stream",
     "text": [
      "TRAIN| Epoch: 36/50| Iter: 27/45 | Train Loss: 0.6952 | lr: 9.85320284697509e-06:  62%|\u001b[36m██████▏   \u001b[0m| 28/45 [02:06<01:17,  4.54s/it]"
     ]
    }
   ],
   "source": [
    "if __name__ == '__main__':\n",
    "    # Hyperparameters and paths\n",
    "    learning_rate = 1e-5\n",
    "    batch_size = 32\n",
    "    epochs = 50\n",
    "    num_workers = os.cpu_count()\n",
    "    data_path = \"data\"\n",
    "    model_save_path = \"./working/trained_model\"\n",
    "    tensorboard_path = \"./working/tensorboard\"\n",
    "    if not os.path.exists(model_save_path):\n",
    "        os.makedirs(model_save_path)\n",
    "    if not os.path.exists(tensorboard_path):\n",
    "        os.makedirs(tensorboard_path)\n",
    "    num_classes = 21\n",
    "    # Start training\n",
    "    main(learning_rate,batch_size,epochs,num_workers,data_path,model_save_path,\n",
    "        tensorboard_path,num_classes,model_save_path)\n",
    "    pass"
   ]
  },
  {
   "cell_type": "code",
   "execution_count": null,
   "metadata": {},
   "outputs": [],
   "source": []
  },
  {
   "cell_type": "code",
   "execution_count": null,
   "metadata": {},
   "outputs": [],
   "source": []
  },
  {
   "cell_type": "code",
   "execution_count": null,
   "metadata": {},
   "outputs": [],
   "source": []
  },
  {
   "cell_type": "code",
   "execution_count": null,
   "metadata": {},
   "outputs": [],
   "source": []
  },
  {
   "cell_type": "code",
   "execution_count": null,
   "metadata": {},
   "outputs": [],
   "source": [
    "class UnNormalize(object):\n",
    "    def __init__(self, mean, std):\n",
    "        self.mean = mean\n",
    "        self.std = std\n",
    "\n",
    "    def __call__(self, tensor):\n",
    "        \"\"\"\n",
    "        Args:\n",
    "            tensor (Tensor): Tensor image of size (C, H, W) to be normalized.\n",
    "        Returns:\n",
    "            Tensor: Normalized image.\n",
    "        \"\"\"\n",
    "        for t, m, s in zip(tensor, self.mean, self.std):\n",
    "            t.mul_(s).add_(m)\n",
    "            # The normalize code -> t.sub\n",
    "        return tensor\n",
    "\n",
    "unorm = UnNormalize(mean=(0.485, 0.456, 0.406), std=(0.229, 0.224, 0.225))"
   ]
  },
  {
   "cell_type": "code",
   "execution_count": null,
   "metadata": {},
   "outputs": [],
   "source": [
    "def pred_show_image_grid(model_pth,model, device, test_transform, num_classes, num_imgs, assigned_ids = None):\n",
    "    # Load model checkpoint\n",
    "    checkpoint = torch.load(model_pth)\n",
    "    model = model\n",
    "\n",
    "    # Load the updated state_dict into the model\n",
    "    model.load_state_dict(checkpoint[\"model_state_dict\"])\n",
    "    model.to(device)\n",
    "    model.eval()\n",
    "\n",
    "    # Load validation dataset\n",
    "    image_dataset = VOCDataset(is_train=False, transform=test_transform)\n",
    "\n",
    "    images, orig_masks, pred_masks = [], [], []\n",
    "    ids = []\n",
    "    # Assigned Indexs to Show\n",
    "    if assigned_ids:\n",
    "        ids = assigned_ids\n",
    "    else:\n",
    "        ids = [np.random.randint(len(image_dataset)) for _ in range(num_imgs)]\n",
    "    print(\"indexs:\", ids)\n",
    "    with torch.no_grad():\n",
    "        for i in range(num_imgs) :\n",
    "            ori_img, mask = image_dataset[ids[i]]\n",
    "            img = ori_img\n",
    "            img = img.to(device).float().unsqueeze(0)\n",
    "            y_pred = model(img)\n",
    "            # if i==1:\n",
    "            #     print('y_shape = ',y_pred.shape)\n",
    "            #     print(y_pred)\n",
    "            y_pred = y_pred.argmax(dim=1).squeeze(0).cpu().numpy()\n",
    "            # if i==1:\n",
    "            #     print(y_pred)\n",
    "            #     print('arg shape = ',y_pred.shape)\n",
    "            mask = mask.cpu().numpy()\n",
    "            \n",
    "            # Colorize masks\n",
    "            color_pred_mask = np.zeros((*y_pred.shape, 3))\n",
    "            color_mask = np.zeros((*mask.shape, 3))\n",
    "            \n",
    "            for idx, color in enumerate(VOC_COLORMAP):\n",
    "                color_pred_mask[y_pred==idx] =color\n",
    "                color_mask[mask==idx] = color\n",
    "            \n",
    "            orig_masks.append(color_mask)\n",
    "            pred_masks.append(color_pred_mask)\n",
    "            images.append(unorm(ori_img).permute(1, 2, 0))\n",
    "\n",
    "    # Combine images and masks for display\n",
    "    images.extend(orig_masks)\n",
    "    images.extend(pred_masks)\n",
    "\n",
    "    # Plot images and masks\n",
    "    fig = plt.figure(figsize=(20, 10))\n",
    "    for i in range(1, 3*num_imgs + 1):\n",
    "        fig.add_subplot(3, num_imgs, i)\n",
    "        plt.imshow(images[i - 1])\n",
    "    plt.show()"
   ]
  },
  {
   "cell_type": "code",
   "execution_count": null,
   "metadata": {},
   "outputs": [],
   "source": [
    "# Define the transformation to be applied to the test images\n",
    "_, test_transform = img_transform()\n",
    "\n",
    "#Define model\n",
    "# segformer_version = \"nvidia/segformer-b3-finetuned-ade-512-512\"\n",
    "# model = SegformerForSemanticSegmentation.from_pretrained(segformer_version)\n",
    "model_config = {\"n_cls\": 21,  \n",
    "                    \"image_size\": (224, 224),\n",
    "                    \"patch_size\": 16,\n",
    "                    \"decoder\": {              \n",
    "                         \"name\": \"mask_transformer\",\n",
    "                         \"n_layers\":12,\n",
    "                         \"drop_path_rate\": 0.2,\n",
    "                         'dropout':0.1\n",
    "                        },\n",
    "                    \"d_model\": 768,\n",
    "                    \"backbone\": \"vit_base_patch16_224.orig_in21k_ft_in1k\",\n",
    "                    \"n_layers\": 12,\n",
    "                    \"n_heads\": 12\n",
    "                    }\n",
    "model = create_segmenter(model_config)\n",
    "# in_channels = model.decode_head.classifier.in_channels\n",
    "# model.decode_head.classifier = torch.nn.Conv2d(in_channels, num_classes, kernel_size=(1, 1), stride=(1, 1))\n",
    "\n",
    "#Note: You must train the model before using this param\n",
    "model_pth = \"./working/trained_model/best.h5\"\n",
    "device = \"cuda\" if torch.cuda.is_available() else \"cpu\" \n",
    "num_classes=  21\n",
    "num_imgs = 10"
   ]
  },
  {
   "cell_type": "code",
   "execution_count": null,
   "metadata": {},
   "outputs": [],
   "source": [
    "pred_show_image_grid(model_pth,model, device, test_transform, num_classes, num_imgs, assigned_ids = None)"
   ]
  },
  {
   "cell_type": "code",
   "execution_count": null,
   "metadata": {},
   "outputs": [],
   "source": [
    "pred_show_image_grid(model_pth,model, device, test_transform, num_classes, num_imgs, assigned_ids = [1231, 772, 48, 368, 1144, 1443, 700, 610, 511, 753])"
   ]
  },
  {
   "cell_type": "code",
   "execution_count": null,
   "metadata": {},
   "outputs": [],
   "source": [
    "pred_show_image_grid(model_pth,model, device, test_transform, num_classes, num_imgs, assigned_ids = [58, 89, 25, 32, 4, 64, 88, 85, 28, 38])"
   ]
  },
  {
   "cell_type": "code",
   "execution_count": null,
   "metadata": {},
   "outputs": [],
   "source": []
  },
  {
   "cell_type": "code",
   "execution_count": null,
   "metadata": {},
   "outputs": [],
   "source": []
  }
 ],
 "metadata": {
  "kernelspec": {
   "display_name": "ccp",
   "language": "python",
   "name": "python3"
  },
  "language_info": {
   "codemirror_mode": {
    "name": "ipython",
    "version": 3
   },
   "file_extension": ".py",
   "mimetype": "text/x-python",
   "name": "python",
   "nbconvert_exporter": "python",
   "pygments_lexer": "ipython3",
   "version": "3.11.9"
  }
 },
 "nbformat": 4,
 "nbformat_minor": 2
}
