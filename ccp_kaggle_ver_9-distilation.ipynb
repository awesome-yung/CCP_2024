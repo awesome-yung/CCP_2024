{
 "cells": [
  {
   "cell_type": "code",
   "execution_count": 1,
   "metadata": {},
   "outputs": [
    {
     "name": "stderr",
     "output_type": "stream",
     "text": [
      "/home/oaz/miniconda3/envs/ccp/lib/python3.11/site-packages/tqdm/auto.py:21: TqdmWarning: IProgress not found. Please update jupyter and ipywidgets. See https://ipywidgets.readthedocs.io/en/stable/user_install.html\n",
      "  from .autonotebook import tqdm as notebook_tqdm\n"
     ]
    }
   ],
   "source": [
    "from transformers import SegformerForSemanticSegmentation"
   ]
  },
  {
   "cell_type": "code",
   "execution_count": 2,
   "metadata": {},
   "outputs": [
    {
     "name": "stderr",
     "output_type": "stream",
     "text": [
      "/home/oaz/miniconda3/envs/ccp/lib/python3.11/site-packages/albumentations/__init__.py:13: UserWarning: A new version of Albumentations is available: 1.4.21 (you have 1.4.15). Upgrade using: pip install -U albumentations. To disable automatic update checks, set the environment variable NO_ALBUMENTATIONS_UPDATE to 1.\n",
      "  check_for_updates()\n",
      "Failed to detect the name of this notebook, you can set it manually with the WANDB_NOTEBOOK_NAME environment variable to enable code saving.\n",
      "\u001b[34m\u001b[1mwandb\u001b[0m: Currently logged in as: \u001b[33myung-ym-lee\u001b[0m (\u001b[33m2024CCP\u001b[0m). Use \u001b[1m`wandb login --relogin`\u001b[0m to force relogin\n"
     ]
    },
    {
     "data": {
      "text/html": [
       "wandb version 0.18.7 is available!  To upgrade, please run:\n",
       " $ pip install wandb --upgrade"
      ],
      "text/plain": [
       "<IPython.core.display.HTML object>"
      ]
     },
     "metadata": {},
     "output_type": "display_data"
    },
    {
     "data": {
      "text/html": [
       "Tracking run with wandb version 0.17.7"
      ],
      "text/plain": [
       "<IPython.core.display.HTML object>"
      ]
     },
     "metadata": {},
     "output_type": "display_data"
    },
    {
     "data": {
      "text/html": [
       "Run data is saved locally in <code>/home/oaz/yumin/CCP_2024/wandb/run-20241116_023934-5ezg9lfr</code>"
      ],
      "text/plain": [
       "<IPython.core.display.HTML object>"
      ]
     },
     "metadata": {},
     "output_type": "display_data"
    },
    {
     "data": {
      "text/html": [
       "Syncing run <strong><a href='https://wandb.ai/2024CCP/yumin/runs/5ezg9lfr' target=\"_blank\">distillation</a></strong> to <a href='https://wandb.ai/2024CCP/yumin' target=\"_blank\">Weights & Biases</a> (<a href='https://wandb.me/run' target=\"_blank\">docs</a>)<br/>"
      ],
      "text/plain": [
       "<IPython.core.display.HTML object>"
      ]
     },
     "metadata": {},
     "output_type": "display_data"
    },
    {
     "data": {
      "text/html": [
       " View project at <a href='https://wandb.ai/2024CCP/yumin' target=\"_blank\">https://wandb.ai/2024CCP/yumin</a>"
      ],
      "text/plain": [
       "<IPython.core.display.HTML object>"
      ]
     },
     "metadata": {},
     "output_type": "display_data"
    },
    {
     "data": {
      "text/html": [
       " View run at <a href='https://wandb.ai/2024CCP/yumin/runs/5ezg9lfr' target=\"_blank\">https://wandb.ai/2024CCP/yumin/runs/5ezg9lfr</a>"
      ],
      "text/plain": [
       "<IPython.core.display.HTML object>"
      ]
     },
     "metadata": {},
     "output_type": "display_data"
    },
    {
     "data": {
      "text/html": [
       "<button onClick=\"this.nextSibling.style.display='block';this.style.display='none';\">Display W&B run</button><iframe src='https://wandb.ai/2024CCP/yumin/runs/5ezg9lfr?jupyter=true' style='border:none;width:100%;height:420px;display:none;'></iframe>"
      ],
      "text/plain": [
       "<wandb.sdk.wandb_run.Run at 0x7fccb97bd8d0>"
      ]
     },
     "execution_count": 2,
     "metadata": {},
     "output_type": "execute_result"
    }
   ],
   "source": [
    "from torch.utils.data import Dataset, DataLoader\n",
    "import torch\n",
    "from torch import nn\n",
    "import torch.nn.functional as F\n",
    "from transformers import get_linear_schedule_with_warmup\n",
    "\n",
    "\n",
    "import albumentations as A\n",
    "from albumentations.pytorch import ToTensorV2\n",
    "import os\n",
    "import cv2\n",
    "import numpy as np\n",
    "import matplotlib.pyplot as plt\n",
    "from PIL import Image\n",
    "from segformer import Segformer_b1, Segformer_b3, Segformer_b1_with_jax\n",
    "import wandb\n",
    "\n",
    "wandb.init(entity='2024CCP', project='yumin', name='distillation')"
   ]
  },
  {
   "cell_type": "code",
   "execution_count": 3,
   "metadata": {},
   "outputs": [],
   "source": [
    "VOC_CLASSES = [\n",
    "    \"background\",\n",
    "    \"aeroplane\",\n",
    "    \"bicycle\",\n",
    "    \"bird\",\n",
    "    \"boat\",\n",
    "    \"bottle\",\n",
    "    \"bus\",\n",
    "    \"car\",\n",
    "    \"cat\",\n",
    "    \"chair\",\n",
    "    \"cow\",\n",
    "    \"diningtable\",\n",
    "    \"dog\",\n",
    "    \"horse\",\n",
    "    \"motorbike\",\n",
    "    \"person\",\n",
    "    \"potted plant\",\n",
    "    \"sheep\",\n",
    "    \"sofa\",\n",
    "    \"train\",\n",
    "    \"tv/monitor\",\n",
    "]\n",
    "\n",
    "VOC_COLORMAP = [\n",
    "    [0, 0, 0],\n",
    "    [128, 0, 0],\n",
    "    [0, 128, 0],\n",
    "    [128, 128, 0],\n",
    "    [0, 0, 128],\n",
    "    [128, 0, 128],\n",
    "    [0, 128, 128],\n",
    "    [128, 128, 128],\n",
    "    [64, 0, 0],\n",
    "    [192, 0, 0],\n",
    "    [64, 128, 0],\n",
    "    [192, 128, 0],\n",
    "    [64, 0, 128],\n",
    "    [192, 0, 128],\n",
    "    [64, 128, 128],\n",
    "    [192, 128, 128],\n",
    "    [0, 64, 0],\n",
    "    [128, 64, 0],\n",
    "    [0, 192, 0],\n",
    "    [128, 192, 0],\n",
    "    [0, 64, 128],\n",
    "]\n",
    "\n",
    "class VOCDataset(Dataset):\n",
    "    def __init__(self, root=\"./dataset/pascal_2012/VOCdevkit/VOC2012\",\n",
    "                 is_train=True, transform=None, classes=None):\n",
    "        # Choose the file for training or validation images\n",
    "        if is_train:\n",
    "            img_root = os.path.join(root, \"ImageSets\", \"Segmentation\", \"train.txt\")\n",
    "        else:\n",
    "            img_root = os.path.join(root, \"ImageSets\", \"Segmentation\", \"val.txt\")\n",
    "        \n",
    "        # Get image names into list\n",
    "        img_names = []\n",
    "        with open(img_root, 'r') as rf:\n",
    "            names = [name.replace('\\n','') for name in rf.readlines()]\n",
    "            for name in names:\n",
    "                img_names.append(name)\n",
    "            \n",
    "        self.classes =  classes\n",
    "        self.transform = transform\n",
    "        self.img_names = img_names\n",
    "        self.root = root\n",
    "        \n",
    "    def __len__(self):\n",
    "        return len(self.img_names)\n",
    "    \n",
    "    def _convert_to_segmentation_mask(self, mask):\n",
    "        height, width = mask.shape[:2]\n",
    "        # Initialize an empty mask with a channel for each class\n",
    "        segmentation_mask = np.zeros((height, width, len(VOC_COLORMAP)))\n",
    "        \n",
    "        # Create a mask for each class label\n",
    "        for label_index, label in enumerate(VOC_COLORMAP):\n",
    "            segmentation_mask[:, :, label_index] = np.all(mask == label, axis=-1).astype(float)\n",
    "        \n",
    "        return segmentation_mask\n",
    "\n",
    "    \n",
    "    def __getitem__(self, item):\n",
    "        img_name = self.img_names[item]\n",
    "        # Load the image and corresponding mask\n",
    "        img = cv2.imread(os.path.join(self.root, \"JPEGImages\", img_name + \".jpg\"))\n",
    "        mask = cv2.imread(os.path.join(self.root, \"SegmentationClass\", img_name + \".png\"))\n",
    "        \n",
    "        # Convert BGR to RGB format\n",
    "        img = cv2.cvtColor(img, cv2.COLOR_BGR2RGB)\n",
    "        mask = cv2.cvtColor(mask, cv2.COLOR_BGR2RGB)\n",
    "        \n",
    "        # Convert RGB mask to segmentation mask\n",
    "        mask = self._convert_to_segmentation_mask(mask)\n",
    "        \n",
    "        # Apply transformations if specified\n",
    "        if self.transform:\n",
    "            augmented = self.transform(image=img, mask=mask)\n",
    "            img = augmented['image']\n",
    "            mask = augmented['mask']\n",
    "            mask = mask.argmax(dim=2).squeeze()  # Convert multi-channel mask back to single-channel\n",
    "        \n",
    "        return img, mask"
   ]
  },
  {
   "cell_type": "code",
   "execution_count": 4,
   "metadata": {},
   "outputs": [],
   "source": [
    "def visualize(**images):\n",
    "    \"\"\"PLot images in one row.\"\"\"\n",
    "    n = len(images)\n",
    "    plt.figure(figsize=(16, 5))\n",
    "    for i, (name, image) in enumerate(images.items()):\n",
    "        plt.subplot(1, n, i + 1)\n",
    "        plt.xticks([])\n",
    "        plt.yticks([])\n",
    "        plt.title(' '.join(name.split('_')).title())\n",
    "        plt.imshow(image)\n",
    "    plt.show()"
   ]
  },
  {
   "cell_type": "code",
   "execution_count": 5,
   "metadata": {},
   "outputs": [],
   "source": [
    "trainsform = A.Compose([\n",
    "    A.Resize(224,224),\n",
    "    A.Normalize(mean=(0.485, 0.456, 0.406), std=(0.229, 0.224, 0.225)), \n",
    "    ToTensorV2(),\n",
    "])\n",
    "\n",
    "VOC_dataset = VOCDataset(is_train= True, transform = trainsform)"
   ]
  },
  {
   "cell_type": "code",
   "execution_count": 6,
   "metadata": {},
   "outputs": [
    {
     "name": "stderr",
     "output_type": "stream",
     "text": [
      "Clipping input data to the valid range for imshow with RGB data ([0..1] for floats or [0..255] for integers). Got range [-2.117904..2.6399999].\n"
     ]
    },
    {
     "name": "stdout",
     "output_type": "stream",
     "text": [
      "400 94\n",
      "Img: torch.Size([3, 224, 224])\n",
      "Mask: torch.Size([224, 224])\n",
      "Max Value Img: tensor(2.6400)\n",
      "Max Value Mask: 15 | Unique Value Mask: tensor([ 0, 15])\n"
     ]
    },
    {
     "name": "stderr",
     "output_type": "stream",
     "text": [
      "Clipping input data to the valid range for imshow with RGB data ([0..1] for floats or [0..255] for integers). Got range [-2.0665298..2.3611329].\n"
     ]
    },
    {
     "data": {
      "image/png": "[encoded data removed]",
      "text/plain": [
       "<Figure size 1600x500 with 4 Axes>"
      ]
     },
     "metadata": {},
     "output_type": "display_data"
    }
   ],
   "source": [
    "idx1, idx2 = np.random.randint(1,500), np.random.randint(1,500)\n",
    "print(idx1,idx2)\n",
    "img, mask = VOC_dataset[idx1]\n",
    "img2, mask2 = VOC_dataset[idx2]\n",
    "print(\"Img:\", img.shape)\n",
    "print(\"Mask:\", mask.shape)\n",
    "print(\"Max Value Img:\",img.max())\n",
    "print(\"Max Value Mask: {} | Unique Value Mask: {}\".format(mask.max(), mask.unique()))\n",
    "\n",
    "visualize(\n",
    "    image1=img.permute(1,2,0), \n",
    "    mask1=mask.squeeze(),\n",
    "    image2 = img2.permute(1,2,0),\n",
    "    mask2 = mask2.squeeze(),\n",
    ")"
   ]
  },
  {
   "cell_type": "code",
   "execution_count": 7,
   "metadata": {},
   "outputs": [],
   "source": [
    "class AverageMeter(object):\n",
    "    \"\"\"Computes and stores the average and current value\"\"\"\n",
    "    def __init__(self):\n",
    "        self.reset()\n",
    "\n",
    "    def reset(self):\n",
    "        self.val = 0\n",
    "        self.avg = 0\n",
    "        self.sum = 0\n",
    "        self.count = 0\n",
    "\n",
    "    def update(self, val, n=1):\n",
    "        self.val = val\n",
    "        self.sum += val * n\n",
    "        self.count += n\n",
    "        self.avg = self.sum / self.count\n",
    "\n",
    "def intersectionAndUnionGPU(output, target, K, ignore_index=255):\n",
    "    # 'K' classes, output and target sizes are N or N * L or N * H * W, each value in range 0 to K - 1.\n",
    "    assert (output.dim() in [1, 2, 3])\n",
    "    assert output.shape == target.shape\n",
    "    output = output.view(-1)\n",
    "    target = target.view(-1)\n",
    "    # import json\n",
    "    # with open('./target.json','w') as f:\n",
    "    #     json.dump(np.array(target.to('cpu')).tolist(), f, indent=4, ensure_ascii=False) \n",
    "    # with open('./output.json','w') as f:\n",
    "    #     json.dump(np.array(output.to('cpu')).tolist(), f, indent=4, ensure_ascii=False)  \n",
    "    output[target == ignore_index] = ignore_index\n",
    "    intersection = output[output == target]\n",
    "    area_intersection = torch.histc(intersection, bins=K, min=0, max=K-1)\n",
    "    area_output = torch.histc(output, bins=K, min=0, max=K-1)\n",
    "    area_target = torch.histc(target, bins=K, min=0, max=K-1)\n",
    "    area_union = area_output + area_target - area_intersection\n",
    "    return area_intersection, area_union, area_target"
   ]
  },
  {
   "cell_type": "code",
   "execution_count": 8,
   "metadata": {},
   "outputs": [],
   "source": [
    "# transform_size = 257\n",
    "#Define trainform to images\n",
    "def img_transform(trainsize= 256):\n",
    "    train_transform = A.Compose([\n",
    "    A.Rotate([-10,10]),\n",
    "    A.RandomScale([0.5,2]),\n",
    "    A.GaussianBlur(),\n",
    "    A.HorizontalFlip(),\n",
    "    A.Resize(width=trainsize, height=trainsize),\n",
    "    A.Normalize(mean=(0.485, 0.456, 0.406), std=(0.229, 0.224, 0.225), max_pixel_value=255.0),\n",
    "    ToTensorV2(),\n",
    "    ])\n",
    "\n",
    "    test_transform = A.Compose([\n",
    "        A.Resize(width=trainsize, height=trainsize),\n",
    "        A.Normalize(mean=(0.485, 0.456, 0.406), std=(0.229, 0.224, 0.225), max_pixel_value=255.0),\n",
    "        ToTensorV2(), \n",
    "    ])\n",
    "    return train_transform, test_transform"
   ]
  },
  {
   "cell_type": "code",
   "execution_count": 9,
   "metadata": {},
   "outputs": [],
   "source": [
    "import copy\n",
    "\n",
    "#patience, min_delta, restore_best_weights, best_model, best_loss counter status\n",
    "#copy.deepcopy\n",
    "class EarlyStopping:\n",
    "    def __init__(self, patience=5, min_delta=0, restore_best_weights=False):\n",
    "        self.patience = patience\n",
    "        self.min_delta = min_delta\n",
    "        self.restore_best_weights = restore_best_weights\n",
    "        self.best_model = None\n",
    "        self.best_loss = None\n",
    "        self.counter = 0\n",
    "        self.status = \"\"\n",
    "\n",
    "    def __call__(self, model, val_loss):\n",
    "        \"\"\"\n",
    "        Call method to check if early stopping is triggered.\n",
    "\n",
    "        Args:\n",
    "        model (torch.nn.Module): The model being trained.\n",
    "        val_loss (float): The validation loss of the current epoch.\n",
    "\n",
    "        Returns:\n",
    "        bool: True if early stopping should occur, False otherwise.\n",
    "        \"\"\"\n",
    "        if self.best_loss is None:\n",
    "            self.best_loss = val_loss\n",
    "            self.best_model = copy.deepcopy(model.state_dict())\n",
    "\n",
    "        elif self.best_loss - val_loss > self.min_delta:\n",
    "            self.best_model = copy.deepcopy(model.state_dict())\n",
    "            self.best_loss = val_loss\n",
    "            self.counter = 0\n",
    "\n",
    "        else:\n",
    "            self.counter += 1\n",
    "            if self.counter >= self.patience:\n",
    "                self.status = f\"Stop on {self.counter}\"\n",
    "                if self.restore_best_weights:\n",
    "                    model.load_state_dict(self.best_model)\n",
    "                return True  # Stop training\n",
    "        self.status = f\"{self.counter}/{self.patience}\"\n",
    "        return False # Continue training"
   ]
  },
  {
   "cell_type": "code",
   "execution_count": 10,
   "metadata": {},
   "outputs": [],
   "source": [
    "import matplotlib.pyplot as plt\n",
    "\n",
    "def plot_segmentation_metrics(train_loss, val_loss, train_mean_iou=None, val_mean_iou=None, \n",
    "                              train_dice_score=None, val_dice_score=None):\n",
    "    \"\"\"\n",
    "    Plot training and validation metrics (loss, mean IoU, Dice score) over epochs.\n",
    "\n",
    "    Args:\n",
    "    - train_loss (list): List of training loss values over epochs.\n",
    "    - val_loss (list): List of validation loss values over epochs.\n",
    "    - train_mean_iou (list, optional): List of training mean IoU values over epochs.\n",
    "    - val_mean_iou (list, optional): List of validation mean IoU values over epochs.\n",
    "    - train_dice_score (list, optional): List of training Dice score values over epochs.\n",
    "    - val_dice_score (list, optional): List of validation Dice score values over epochs.\n",
    "    \"\"\"\n",
    "    epochs = range(1, len(train_loss) + 1)\n",
    "    \n",
    "    plt.figure(figsize=(15, 10))\n",
    "    \n",
    "    # Plotting the Loss\n",
    "    plt.subplot(2, 2, 1)\n",
    "    plt.plot(epochs, train_loss, 'r', label='Training Loss')\n",
    "    plt.plot(epochs, val_loss, 'b', label='Test Loss')\n",
    "    plt.title('Training and Test Loss')\n",
    "    plt.xlabel('Epochs')\n",
    "    plt.ylabel('Loss')\n",
    "    plt.legend()\n",
    "    \n",
    "    # Plotting the Mean IoU (if available)\n",
    "    if train_mean_iou and val_mean_iou:\n",
    "        plt.subplot(2, 2, 2)\n",
    "        plt.plot(epochs, train_mean_iou, 'r', label='Training Mean IoU')\n",
    "        plt.plot(epochs, val_mean_iou, 'b', label='Test Mean IoU')\n",
    "        plt.title('Training and Test Mean IoU')\n",
    "        plt.xlabel('Epochs')\n",
    "        plt.ylabel('Mean IoU')\n",
    "        plt.legend()\n",
    "    \n",
    "    # Plotting the Dice Score (if available)\n",
    "    if train_dice_score and val_dice_score:\n",
    "        plt.subplot(2, 2, 3)\n",
    "        plt.plot(epochs, train_dice_score, 'r', label='Training Dice Score')\n",
    "        plt.plot(epochs, val_dice_score, 'b', label='Test Dice Score')\n",
    "        plt.title('Training and Test Dice Score')\n",
    "        plt.xlabel('Epochs')\n",
    "        plt.ylabel('Dice Score')\n",
    "        plt.legend()\n",
    "    \n",
    "    plt.tight_layout()\n",
    "    plt.show()"
   ]
  },
  {
   "cell_type": "code",
   "execution_count": 11,
   "metadata": {},
   "outputs": [],
   "source": [
    "upsample = nn.Upsample(scale_factor=4, mode='bilinear', align_corners=False)"
   ]
  },
  {
   "cell_type": "code",
   "execution_count": 12,
   "metadata": {},
   "outputs": [],
   "source": [
    "def distillation_loss_segmentation(student_logits, teacher_logits, T):\n",
    "    student_softmax = F.log_softmax(student_logits / T, dim=1)\n",
    "    teacher_softmax = F.softmax(teacher_logits / T, dim=1)\n",
    "    \n",
    "    # KL Divergence 계산\n",
    "    loss = F.kl_div(student_softmax, teacher_softmax, reduction='mean') * (T * T)*2\n",
    "    return loss"
   ]
  },
  {
   "cell_type": "code",
   "execution_count": 13,
   "metadata": {},
   "outputs": [],
   "source": [
    "# Training fuction\n",
    "def train(model,train_dataloader,device,optimizer,scheduler, epoch, EPOCHS, writer, train_loss_meter, criterion, model_teacher):\n",
    "    ti = 0\n",
    "    model.train()\n",
    "    model_teacher.eval()\n",
    "    train_progress= tqdm(train_dataloader, colour=\"cyan\")\n",
    "    \n",
    "    # print(total_steps, len(train_dataloader), EPOCHS)\n",
    "    for idx, img_mask in enumerate(train_progress):\n",
    "        img = img_mask[0].float().to(device) #img - B,C,H,W\n",
    "        mask = img_mask[1].long().to(device) #label - B,H,W\n",
    "        # y_pred = model(img).logits #B, 21, H, W\n",
    "        # y_pred =  upsample(y_pred)\n",
    "\n",
    "        y_pred = model(img)\n",
    "        # print(F.softmax(y_pred, dim=1).shape)\n",
    "\n",
    "        # print(F.softmax(y_pred, dim=1))\n",
    "        # print(F.softmax(y_pred, dim=1).argmax(dim=1).shape)\n",
    "        \n",
    "        # print(F.softmax(y_pred, dim=1).argmax(dim=1))\n",
    "\n",
    "\n",
    "        with torch.no_grad():\n",
    "            y_pred_teacher = model_teacher(img).logits\n",
    "            y_pred_teacher = upsample(y_pred_teacher)\n",
    "        \n",
    "        #Optimizer \n",
    "        optimizer.zero_grad()\n",
    "\n",
    "        alpha = 0.3\n",
    "        T = 3\n",
    "        hard_loss = criterion(F.softmax(y_pred, dim=1), mask)\n",
    "        soft_loss = distillation_loss_segmentation(y_pred, y_pred_teacher, T)\n",
    "        loss = alpha * hard_loss + (1 - alpha) * soft_loss\n",
    "        # import pdb;pdb.set_trace()\n",
    "        loss.backward()\n",
    "        # print(\"sun = \", torch.sum(y_pred))\n",
    "        # print(\"y_pred\",y_pred.shape, mask.shape)\n",
    "        optimizer.step()\n",
    "        \n",
    "        wandb.log({'Train Total Loss': round(loss.item(),4),\n",
    "                   'Train hard Loss': round(hard_loss.item(),4),\n",
    "                   'Train soft Loss': round(soft_loss.item(),4),\n",
    "                    # 'epoch' : epoch+1,\n",
    "                    'learning rate' : optimizer.param_groups[0]['lr']})\n",
    "        train_loss_meter.update(loss.item())\n",
    "        \n",
    "        # tracking the loss function\n",
    "        writer.add_scalar(\"Train/Loss\", train_loss_meter.avg, epoch*len(train_dataloader)+idx)\n",
    "\n",
    "        train_progress.set_description(\"TRAIN| Epoch: {}/{}| Iter: {}/{} | Train Loss: {:0.4f} | lr: {}\".format(\n",
    "            epoch+1, EPOCHS, idx, len(train_dataloader), loss, optimizer.param_groups[0]['lr']))\n",
    "        \n",
    "    return train_loss_meter.avg"
   ]
  },
  {
   "cell_type": "code",
   "execution_count": 14,
   "metadata": {},
   "outputs": [],
   "source": [
    "#Evaluate function\n",
    "def evaluate(model,val_dataloader,device, num_classes, intersection_meter, union_meter, target_meter, test_loss_meter, criterion):\n",
    "    model.eval()\n",
    "    \n",
    "    with torch.no_grad():\n",
    "        for idx, img_mask in enumerate(val_dataloader):\n",
    "            img = img_mask[0].float().to(device)\n",
    "            mask = img_mask[1].long().to(device) #B W H\n",
    "\n",
    "            # y_pred = model(img).logits #B, 21, H, W\n",
    "            # y_pred = upsample(y_pred)\n",
    "            y_pred = model(img)\n",
    "            \n",
    "            loss = criterion(F.softmax(y_pred, dim=1), mask) \n",
    "            test_loss_meter.update(loss.item()) \n",
    "            \n",
    "            # (B, 21, H, W) -> (B, 1, H, W) -> (B, H, W)\n",
    "            y_pred = y_pred.argmax(dim=1).squeeze(dim=1)\n",
    "            intersection, union, target = intersectionAndUnionGPU(y_pred.float(), mask.float(), num_classes)\n",
    "            intersection, union, target = intersection.cpu().numpy(), union.cpu().numpy(), target.cpu().numpy()\n",
    "            intersection_meter.update(intersection), union_meter.update(union), target_meter.update(target)\n",
    "            \n",
    "            if idx>35: break\n",
    "            \n",
    "        #compute acc, iou, dice\n",
    "        accuracy_class = intersection_meter.sum / (target_meter.sum + 1e-10)\n",
    "        iou_class = intersection_meter.sum / (union_meter.sum + 1e-10)\n",
    "        dice_class = (2 * intersection_meter.sum) / (intersection_meter.sum + union_meter.sum + 1e-10) #vector 21D\n",
    "        macc = np.mean(accuracy_class)\n",
    "        miou = np.mean(iou_class) #mean vector 21D\n",
    "        mdice = np.mean(dice_class) #mean vector 21D\n",
    "        wandb.log({'Validation Acc': macc,\n",
    "                    'Validation mIoU': miou,\n",
    "                    'Validation Dice': mdice,\n",
    "                       })\n",
    "\n",
    "    return macc, miou, mdice, test_loss_meter.avg"
   ]
  },
  {
   "cell_type": "code",
   "execution_count": 15,
   "metadata": {},
   "outputs": [],
   "source": [
    "from torch.utils.tensorboard import SummaryWriter\n",
    "import torch.optim as optim\n",
    "import torch.nn.functional as F\n",
    "\n",
    "import segmentation_models_pytorch as smp\n",
    "import shutil\n",
    "from tqdm import tqdm\n",
    "from transformers import SegformerForSemanticSegmentation, SegformerConfig"
   ]
  },
  {
   "cell_type": "code",
   "execution_count": 16,
   "metadata": {},
   "outputs": [],
   "source": [
    "def main(learning_rate, batch_size, epochs, num_workers, data_path, model_save_path, tensorboard_path, num_classes, checkpoint_path):\n",
    "    \n",
    "    # Create model save directory if it doesn't exist\n",
    "    if not os.path.isdir(model_save_path):\n",
    "        os.mkdir(model_save_path)\n",
    "    # Creater tensorboard directory\n",
    "    if os.path.isdir(tensorboard_path):\n",
    "        shutil.rmtree(tensorboard_path)\n",
    "    os.mkdir(tensorboard_path)\n",
    "    \n",
    "    \n",
    "    # Data augmentation and preprocessing for training and testing\n",
    "    train_transform, test_transform = img_transform()\n",
    "    \n",
    "    # Create datasets and dataloaders\n",
    "    train_dataset = VOCDataset(is_train=True, transform=train_transform)\n",
    "    test_dataset = VOCDataset(is_train=False, transform=test_transform)\n",
    "\n",
    "    train_dataloader = DataLoader(dataset=train_dataset, batch_size=batch_size, num_workers=num_workers, shuffle=True, drop_last=True)\n",
    "    val_dataloader = DataLoader(dataset=test_dataset, batch_size=batch_size, num_workers=num_workers, shuffle=False, drop_last=True)\n",
    "    \n",
    "    device = torch.device(\"cuda\" if torch.cuda.is_available() else \"cpu\") \n",
    "    \n",
    "    # # Load model and move it to the appropriate device\n",
    "    segformer_version = \"nvidia/segformer-b3-finetuned-ade-512-512\"\n",
    "    model_parent = SegformerForSemanticSegmentation.from_pretrained(segformer_version)\n",
    "    in_channels = model_parent.decode_head.classifier.in_channels\n",
    "    model_parent.decode_head.classifier = torch.nn.Conv2d(in_channels, num_classes, kernel_size=(1, 1), stride=(1, 1))\n",
    "    model_pth = './working/trained_model/reference_segformer.h5'\n",
    "    checkpoint = torch.load(model_pth)\n",
    "    model_parent.load_state_dict(checkpoint[\"model_state_dict\"])\n",
    "\n",
    "    model = Segformer_b3()\n",
    "\n",
    "    model.to(device)\n",
    "    model_parent.to(device)\n",
    "\n",
    "    # Initialize optimizer and loss function\n",
    "    optimizer = optim.Adam(model.parameters(), lr=learning_rate)\n",
    "    total_steps = len(train_dataloader) * epochs\n",
    "    # warmup_steps = int(total_steps * 0.1)\n",
    "    # scheduler = get_linear_schedule_with_warmup(\n",
    "    #     optimizer,\n",
    "    #     num_warmup_steps=warmup_steps,  # Warm-up steps\n",
    "    #     num_training_steps=total_steps  # Total training steps\n",
    "    # )\n",
    "    scheduler = torch.optim.lr_scheduler.CosineAnnealingWarmRestarts(optimizer, T_0=10, T_mult=1, eta_min=1e-8)\n",
    "    criterion = smp.losses.DiceLoss(mode=\"multiclass\", classes = num_classes, log_loss = False, from_logits = False, smooth=1e-8, ignore_index=0)\n",
    "    \n",
    "    # Best validation IoU for saving the best model\n",
    "    best_predict = -1\n",
    "    current_epoch = 0\n",
    "                                   \n",
    "    # Metrics\n",
    "    train_loss_list = []\n",
    "    test_loss_list = []\n",
    "    train_loss_meter = AverageMeter()\n",
    "    test_loss_meter = AverageMeter()\n",
    "    intersection_meter = AverageMeter()\n",
    "    union_meter = AverageMeter()\n",
    "    target_meter = AverageMeter()\n",
    "    \n",
    "    # Early Stop\n",
    "    es = EarlyStopping(patience=100,restore_best_weights=False)\n",
    "    \n",
    "    # set up learning rate scheduler\n",
    "    # scheduler= optim.lr_scheduler.ReduceLROnPlateau(optimizer, mode='min', factor=0.1, patience=4, threshold= 1e-4, min_lr=0)\n",
    "     \n",
    "    # difine Tensorboard    \n",
    "    writer = SummaryWriter(tensorboard_path)\n",
    "\n",
    "    \n",
    "    # Training loop\n",
    "    for epoch in range(current_epoch,epochs): #EPOCHS\n",
    "        intersection_meter.reset()\n",
    "        union_meter.reset()\n",
    "        target_meter.reset()\n",
    "        \n",
    "        #Start training model\n",
    "        train_loss = train(model,train_dataloader,device, optimizer, scheduler, epoch, epochs, writer, train_loss_meter,criterion, model_parent)\n",
    "        acc, miou, dice, test_loss = evaluate(model,val_dataloader,device, num_classes, intersection_meter, union_meter, target_meter, test_loss_meter, criterion)\n",
    "        scheduler.step()\n",
    "        \n",
    "        train_loss_list.append(train_loss)\n",
    "        test_loss_list.append(test_loss)\n",
    "        \n",
    "        # write in tensorboard\n",
    "        writer.add_scalar(\"Test/Acc\", acc, epoch)\n",
    "        writer.add_scalar(\"Test/mIOU\", miou, epoch)\n",
    "        writer.add_scalar(\"Test/Dice\", dice, epoch)\n",
    "        \n",
    "        # update learning rate\n",
    "        # scheduler.step(1-miou)\n",
    "        # scheduler.step()\n",
    "\n",
    "        #Create checkpoint\n",
    "        checkpoint = {\n",
    "            \"model_state_dict\": model.state_dict(),\n",
    "            \"epoch\": epoch, \n",
    "            \"optimizer_state_dict\": optimizer.state_dict(),\n",
    "            \"miou\": miou\n",
    "        }\n",
    "        \n",
    "        # Save last checkpoint\n",
    "        torch.save(checkpoint, os.path.join(model_save_path, \"last.h5\"))\n",
    "        \n",
    "        # Save best checkpoint based on dice score\n",
    "        if miou > best_predict:\n",
    "            torch.save(checkpoint, os.path.join(model_save_path, \"best.h5\"))\n",
    "            best_predict = miou\n",
    "            \n",
    "        if es(model, 1-miou):\n",
    "            print(f\"Early stopping triggered at epoch {epoch + 1}\")\n",
    "            break\n",
    "            \n",
    "        print(\"VAL| Acc:{:0.4f}  | mIOU: {:0.4f} | Dice: {:0.4f} | Test Loss: {:0.4f}| EStop: {}\".format(\n",
    "             acc, miou, dice, test_loss, es.status))\n",
    "        \n",
    "    #show tracking plot\n",
    "    plot_segmentation_metrics(train_loss_list, test_loss_list)"
   ]
  },
  {
   "cell_type": "code",
   "execution_count": 17,
   "metadata": {},
   "outputs": [
    {
     "name": "stderr",
     "output_type": "stream",
     "text": [
      "/home/oaz/miniconda3/envs/ccp/lib/python3.11/site-packages/torch/_utils.py:831: UserWarning: TypedStorage is deprecated. It will be removed in the future and UntypedStorage will be the only storage class. This should only matter to you if you are using storages directly.  To access UntypedStorage directly, use tensor.untyped_storage() instead of tensor.storage()\n",
      "  return self.fget.__get__(instance, owner)()\n",
      "  0%|\u001b[36m          \u001b[0m| 0/183 [00:00<?, ?it/s]/home/oaz/miniconda3/envs/ccp/lib/python3.11/site-packages/torch/nn/functional.py:2943: UserWarning: reduction: 'mean' divides the total loss by both the batch size and the support size.'batchmean' divides only by the batch size, and aligns with the KL div math definition.'mean' will be changed to behave the same as 'batchmean' in the next major release.\n",
      "  warnings.warn(\n",
      "TRAIN| Epoch: 1/1000| Iter: 182/183 | Train Loss: 0.4223 | lr: 1e-05: 100%|\u001b[36m██████████\u001b[0m| 183/183 [02:36<00:00,  1.17it/s]\n"
     ]
    },
    {
     "name": "stdout",
     "output_type": "stream",
     "text": [
      "VAL| Acc:0.0476  | mIOU: 0.0351 | Dice: 0.0404 | Test Loss: 0.4336| EStop: 0/100\n"
     ]
    },
    {
     "name": "stderr",
     "output_type": "stream",
     "text": [
      "TRAIN| Epoch: 2/1000| Iter: 182/183 | Train Loss: 0.4626 | lr: 9.755527298894294e-06: 100%|\u001b[36m██████████\u001b[0m| 183/183 [02:34<00:00,  1.18it/s]\n"
     ]
    },
    {
     "name": "stdout",
     "output_type": "stream",
     "text": [
      "VAL| Acc:0.0476  | mIOU: 0.0351 | Dice: 0.0404 | Test Loss: 0.4330| EStop: 1/100\n"
     ]
    },
    {
     "name": "stderr",
     "output_type": "stream",
     "text": [
      "TRAIN| Epoch: 3/1000| Iter: 182/183 | Train Loss: 0.3269 | lr: 9.046039886902864e-06: 100%|\u001b[36m██████████\u001b[0m| 183/183 [02:33<00:00,  1.19it/s]\n"
     ]
    },
    {
     "name": "stdout",
     "output_type": "stream",
     "text": [
      "VAL| Acc:0.0476  | mIOU: 0.0351 | Dice: 0.0404 | Test Loss: 0.4329| EStop: 2/100\n"
     ]
    },
    {
     "name": "stderr",
     "output_type": "stream",
     "text": [
      "TRAIN| Epoch: 4/1000| Iter: 182/183 | Train Loss: 0.4122 | lr: 7.940987335200904e-06: 100%|\u001b[36m██████████\u001b[0m| 183/183 [02:29<00:00,  1.22it/s]\n"
     ]
    },
    {
     "name": "stdout",
     "output_type": "stream",
     "text": [
      "VAL| Acc:0.0481  | mIOU: 0.0356 | Dice: 0.0413 | Test Loss: 0.4322| EStop: 0/100\n"
     ]
    },
    {
     "name": "stderr",
     "output_type": "stream",
     "text": [
      "TRAIN| Epoch: 5/1000| Iter: 182/183 | Train Loss: 0.5130 | lr: 6.548539886902863e-06: 100%|\u001b[36m██████████\u001b[0m| 183/183 [02:32<00:00,  1.20it/s]\n"
     ]
    },
    {
     "name": "stdout",
     "output_type": "stream",
     "text": [
      "VAL| Acc:0.0477  | mIOU: 0.0352 | Dice: 0.0406 | Test Loss: 0.4320| EStop: 1/100\n"
     ]
    },
    {
     "name": "stderr",
     "output_type": "stream",
     "text": [
      "TRAIN| Epoch: 6/1000| Iter: 182/183 | Train Loss: 0.4412 | lr: 5.005e-06: 100%|\u001b[36m██████████\u001b[0m| 183/183 [02:35<00:00,  1.18it/s]\n"
     ]
    },
    {
     "name": "stdout",
     "output_type": "stream",
     "text": [
      "VAL| Acc:0.0477  | mIOU: 0.0351 | Dice: 0.0405 | Test Loss: 0.4321| EStop: 2/100\n"
     ]
    },
    {
     "name": "stderr",
     "output_type": "stream",
     "text": [
      "TRAIN| Epoch: 7/1000| Iter: 182/183 | Train Loss: 0.3891 | lr: 3.4614601130971384e-06: 100%|\u001b[36m██████████\u001b[0m| 183/183 [02:29<00:00,  1.22it/s]\n"
     ]
    },
    {
     "name": "stdout",
     "output_type": "stream",
     "text": [
      "VAL| Acc:0.0494  | mIOU: 0.0370 | Dice: 0.0439 | Test Loss: 0.4315| EStop: 0/100\n"
     ]
    },
    {
     "name": "stderr",
     "output_type": "stream",
     "text": [
      "TRAIN| Epoch: 8/1000| Iter: 182/183 | Train Loss: 0.3801 | lr: 2.0690126647990974e-06: 100%|\u001b[36m██████████\u001b[0m| 183/183 [02:32<00:00,  1.20it/s]\n"
     ]
    },
    {
     "name": "stdout",
     "output_type": "stream",
     "text": [
      "VAL| Acc:0.0500  | mIOU: 0.0375 | Dice: 0.0449 | Test Loss: 0.4309| EStop: 0/100\n"
     ]
    },
    {
     "name": "stderr",
     "output_type": "stream",
     "text": [
      "TRAIN| Epoch: 9/1000| Iter: 182/183 | Train Loss: 0.3753 | lr: 9.63960113097138e-07: 100%|\u001b[36m██████████\u001b[0m| 183/183 [02:31<00:00,  1.21it/s]\n"
     ]
    },
    {
     "name": "stdout",
     "output_type": "stream",
     "text": [
      "VAL| Acc:0.0489  | mIOU: 0.0364 | Dice: 0.0429 | Test Loss: 0.4307| EStop: 1/100\n"
     ]
    },
    {
     "name": "stderr",
     "output_type": "stream",
     "text": [
      "TRAIN| Epoch: 10/1000| Iter: 182/183 | Train Loss: 0.4693 | lr: 2.5447270110570816e-07: 100%|\u001b[36m██████████\u001b[0m| 183/183 [02:33<00:00,  1.19it/s]\n"
     ]
    },
    {
     "name": "stdout",
     "output_type": "stream",
     "text": [
      "VAL| Acc:0.0494  | mIOU: 0.0370 | Dice: 0.0440 | Test Loss: 0.4303| EStop: 2/100\n"
     ]
    },
    {
     "name": "stderr",
     "output_type": "stream",
     "text": [
      "TRAIN| Epoch: 11/1000| Iter: 182/183 | Train Loss: 0.4269 | lr: 1e-05: 100%|\u001b[36m██████████\u001b[0m| 183/183 [02:33<00:00,  1.19it/s]\n"
     ]
    },
    {
     "name": "stdout",
     "output_type": "stream",
     "text": [
      "VAL| Acc:0.0494  | mIOU: 0.0370 | Dice: 0.0440 | Test Loss: 0.4300| EStop: 3/100\n"
     ]
    },
    {
     "name": "stderr",
     "output_type": "stream",
     "text": [
      "TRAIN| Epoch: 12/1000| Iter: 182/183 | Train Loss: 0.2809 | lr: 9.755527298894294e-06: 100%|\u001b[36m██████████\u001b[0m| 183/183 [02:29<00:00,  1.22it/s]\n"
     ]
    },
    {
     "name": "stdout",
     "output_type": "stream",
     "text": [
      "VAL| Acc:0.0506  | mIOU: 0.0381 | Dice: 0.0459 | Test Loss: 0.4296| EStop: 0/100\n"
     ]
    },
    {
     "name": "stderr",
     "output_type": "stream",
     "text": [
      "TRAIN| Epoch: 13/1000| Iter: 182/183 | Train Loss: 0.5040 | lr: 9.046039886902864e-06: 100%|\u001b[36m██████████\u001b[0m| 183/183 [02:38<00:00,  1.15it/s]\n"
     ]
    },
    {
     "name": "stdout",
     "output_type": "stream",
     "text": [
      "VAL| Acc:0.0530  | mIOU: 0.0404 | Dice: 0.0502 | Test Loss: 0.4290| EStop: 0/100\n"
     ]
    },
    {
     "name": "stderr",
     "output_type": "stream",
     "text": [
      "TRAIN| Epoch: 14/1000| Iter: 182/183 | Train Loss: 0.3201 | lr: 7.940987335200904e-06: 100%|\u001b[36m██████████\u001b[0m| 183/183 [02:32<00:00,  1.20it/s]\n"
     ]
    },
    {
     "name": "stdout",
     "output_type": "stream",
     "text": [
      "VAL| Acc:0.0522  | mIOU: 0.0397 | Dice: 0.0491 | Test Loss: 0.4287| EStop: 1/100\n"
     ]
    },
    {
     "name": "stderr",
     "output_type": "stream",
     "text": [
      "TRAIN| Epoch: 15/1000| Iter: 182/183 | Train Loss: 0.4924 | lr: 6.548539886902863e-06: 100%|\u001b[36m██████████\u001b[0m| 183/183 [02:35<00:00,  1.18it/s]\n"
     ]
    },
    {
     "name": "stdout",
     "output_type": "stream",
     "text": [
      "VAL| Acc:0.0676  | mIOU: 0.0495 | Dice: 0.0646 | Test Loss: 0.4278| EStop: 0/100\n"
     ]
    },
    {
     "name": "stderr",
     "output_type": "stream",
     "text": [
      "TRAIN| Epoch: 16/1000| Iter: 182/183 | Train Loss: 0.3513 | lr: 5.005e-06: 100%|\u001b[36m██████████\u001b[0m| 183/183 [02:31<00:00,  1.21it/s]\n"
     ]
    },
    {
     "name": "stdout",
     "output_type": "stream",
     "text": [
      "VAL| Acc:0.0572  | mIOU: 0.0441 | Dice: 0.0565 | Test Loss: 0.4273| EStop: 1/100\n"
     ]
    },
    {
     "name": "stderr",
     "output_type": "stream",
     "text": [
      "TRAIN| Epoch: 17/1000| Iter: 182/183 | Train Loss: 0.3433 | lr: 3.4614601130971384e-06: 100%|\u001b[36m██████████\u001b[0m| 183/183 [02:30<00:00,  1.21it/s]\n"
     ]
    },
    {
     "name": "stdout",
     "output_type": "stream",
     "text": [
      "VAL| Acc:0.0599  | mIOU: 0.0467 | Dice: 0.0610 | Test Loss: 0.4268| EStop: 2/100\n"
     ]
    },
    {
     "name": "stderr",
     "output_type": "stream",
     "text": [
      "TRAIN| Epoch: 18/1000| Iter: 182/183 | Train Loss: 0.4410 | lr: 2.0690126647990974e-06: 100%|\u001b[36m██████████\u001b[0m| 183/183 [02:33<00:00,  1.19it/s]\n"
     ]
    },
    {
     "name": "stdout",
     "output_type": "stream",
     "text": [
      "VAL| Acc:0.0595  | mIOU: 0.0464 | Dice: 0.0604 | Test Loss: 0.4264| EStop: 3/100\n"
     ]
    },
    {
     "name": "stderr",
     "output_type": "stream",
     "text": [
      "TRAIN| Epoch: 19/1000| Iter: 182/183 | Train Loss: 0.4561 | lr: 9.63960113097138e-07: 100%|\u001b[36m██████████\u001b[0m| 183/183 [02:31<00:00,  1.21it/s]\n"
     ]
    },
    {
     "name": "stdout",
     "output_type": "stream",
     "text": [
      "VAL| Acc:0.0622  | mIOU: 0.0485 | Dice: 0.0638 | Test Loss: 0.4260| EStop: 4/100\n"
     ]
    },
    {
     "name": "stderr",
     "output_type": "stream",
     "text": [
      "TRAIN| Epoch: 20/1000| Iter: 182/183 | Train Loss: 0.3748 | lr: 2.5447270110570816e-07: 100%|\u001b[36m██████████\u001b[0m| 183/183 [02:37<00:00,  1.16it/s]\n"
     ]
    },
    {
     "name": "stdout",
     "output_type": "stream",
     "text": [
      "VAL| Acc:0.0632  | mIOU: 0.0495 | Dice: 0.0656 | Test Loss: 0.4255| EStop: 0/100\n"
     ]
    },
    {
     "name": "stderr",
     "output_type": "stream",
     "text": [
      "TRAIN| Epoch: 21/1000| Iter: 182/183 | Train Loss: 0.4509 | lr: 1e-05: 100%|\u001b[36m██████████\u001b[0m| 183/183 [02:32<00:00,  1.20it/s]\n"
     ]
    },
    {
     "name": "stdout",
     "output_type": "stream",
     "text": [
      "VAL| Acc:0.0668  | mIOU: 0.0506 | Dice: 0.0673 | Test Loss: 0.4249| EStop: 0/100\n"
     ]
    },
    {
     "name": "stderr",
     "output_type": "stream",
     "text": [
      "TRAIN| Epoch: 22/1000| Iter: 182/183 | Train Loss: 0.4293 | lr: 9.755527298894294e-06: 100%|\u001b[36m██████████\u001b[0m| 183/183 [02:27<00:00,  1.24it/s]\n"
     ]
    },
    {
     "name": "stdout",
     "output_type": "stream",
     "text": [
      "VAL| Acc:0.0587  | mIOU: 0.0458 | Dice: 0.0599 | Test Loss: 0.4248| EStop: 1/100\n"
     ]
    },
    {
     "name": "stderr",
     "output_type": "stream",
     "text": [
      "TRAIN| Epoch: 23/1000| Iter: 182/183 | Train Loss: 0.3867 | lr: 9.046039886902864e-06: 100%|\u001b[36m██████████\u001b[0m| 183/183 [02:35<00:00,  1.18it/s]\n"
     ]
    },
    {
     "name": "stdout",
     "output_type": "stream",
     "text": [
      "VAL| Acc:0.0667  | mIOU: 0.0521 | Dice: 0.0705 | Test Loss: 0.4245| EStop: 0/100\n"
     ]
    },
    {
     "name": "stderr",
     "output_type": "stream",
     "text": [
      "TRAIN| Epoch: 24/1000| Iter: 182/183 | Train Loss: 0.2473 | lr: 7.940987335200904e-06: 100%|\u001b[36m██████████\u001b[0m| 183/183 [02:30<00:00,  1.22it/s]\n"
     ]
    },
    {
     "name": "stdout",
     "output_type": "stream",
     "text": [
      "VAL| Acc:0.0649  | mIOU: 0.0511 | Dice: 0.0682 | Test Loss: 0.4241| EStop: 1/100\n"
     ]
    },
    {
     "name": "stderr",
     "output_type": "stream",
     "text": [
      "TRAIN| Epoch: 25/1000| Iter: 182/183 | Train Loss: 0.3964 | lr: 6.548539886902863e-06: 100%|\u001b[36m██████████\u001b[0m| 183/183 [02:35<00:00,  1.18it/s]\n"
     ]
    },
    {
     "name": "stdout",
     "output_type": "stream",
     "text": [
      "VAL| Acc:0.0650  | mIOU: 0.0514 | Dice: 0.0697 | Test Loss: 0.4238| EStop: 2/100\n"
     ]
    },
    {
     "name": "stderr",
     "output_type": "stream",
     "text": [
      "TRAIN| Epoch: 26/1000| Iter: 182/183 | Train Loss: 0.3161 | lr: 5.005e-06: 100%|\u001b[36m██████████\u001b[0m| 183/183 [02:30<00:00,  1.22it/s]\n"
     ]
    },
    {
     "name": "stdout",
     "output_type": "stream",
     "text": [
      "VAL| Acc:0.0709  | mIOU: 0.0568 | Dice: 0.0785 | Test Loss: 0.4235| EStop: 0/100\n"
     ]
    },
    {
     "name": "stderr",
     "output_type": "stream",
     "text": [
      "TRAIN| Epoch: 27/1000| Iter: 182/183 | Train Loss: 0.3990 | lr: 3.4614601130971384e-06: 100%|\u001b[36m██████████\u001b[0m| 183/183 [02:37<00:00,  1.16it/s]\n"
     ]
    },
    {
     "name": "stdout",
     "output_type": "stream",
     "text": [
      "VAL| Acc:0.0718  | mIOU: 0.0572 | Dice: 0.0794 | Test Loss: 0.4231| EStop: 0/100\n"
     ]
    },
    {
     "name": "stderr",
     "output_type": "stream",
     "text": [
      "TRAIN| Epoch: 28/1000| Iter: 182/183 | Train Loss: 0.2520 | lr: 2.0690126647990974e-06: 100%|\u001b[36m██████████\u001b[0m| 183/183 [02:35<00:00,  1.18it/s]\n"
     ]
    },
    {
     "name": "stdout",
     "output_type": "stream",
     "text": [
      "VAL| Acc:0.0814  | mIOU: 0.0633 | Dice: 0.0890 | Test Loss: 0.4226| EStop: 0/100\n"
     ]
    },
    {
     "name": "stderr",
     "output_type": "stream",
     "text": [
      "TRAIN| Epoch: 29/1000| Iter: 182/183 | Train Loss: 0.4290 | lr: 9.63960113097138e-07: 100%|\u001b[36m██████████\u001b[0m| 183/183 [02:33<00:00,  1.19it/s]\n"
     ]
    },
    {
     "name": "stdout",
     "output_type": "stream",
     "text": [
      "VAL| Acc:0.0770  | mIOU: 0.0616 | Dice: 0.0865 | Test Loss: 0.4222| EStop: 1/100\n"
     ]
    },
    {
     "name": "stderr",
     "output_type": "stream",
     "text": [
      "TRAIN| Epoch: 30/1000| Iter: 182/183 | Train Loss: 0.4206 | lr: 2.5447270110570816e-07: 100%|\u001b[36m██████████\u001b[0m| 183/183 [02:34<00:00,  1.18it/s]\n"
     ]
    },
    {
     "name": "stdout",
     "output_type": "stream",
     "text": [
      "VAL| Acc:0.0808  | mIOU: 0.0641 | Dice: 0.0903 | Test Loss: 0.4218| EStop: 0/100\n"
     ]
    },
    {
     "name": "stderr",
     "output_type": "stream",
     "text": [
      "TRAIN| Epoch: 31/1000| Iter: 182/183 | Train Loss: 0.5286 | lr: 1e-05: 100%|\u001b[36m██████████\u001b[0m| 183/183 [02:33<00:00,  1.19it/s]\n"
     ]
    },
    {
     "name": "stdout",
     "output_type": "stream",
     "text": [
      "VAL| Acc:0.0701  | mIOU: 0.0540 | Dice: 0.0739 | Test Loss: 0.4214| EStop: 1/100\n"
     ]
    },
    {
     "name": "stderr",
     "output_type": "stream",
     "text": [
      "TRAIN| Epoch: 32/1000| Iter: 182/183 | Train Loss: 0.3119 | lr: 9.755527298894294e-06: 100%|\u001b[36m██████████\u001b[0m| 183/183 [02:32<00:00,  1.20it/s]\n"
     ]
    },
    {
     "name": "stdout",
     "output_type": "stream",
     "text": [
      "VAL| Acc:0.0652  | mIOU: 0.0512 | Dice: 0.0701 | Test Loss: 0.4213| EStop: 2/100\n"
     ]
    },
    {
     "name": "stderr",
     "output_type": "stream",
     "text": [
      "TRAIN| Epoch: 33/1000| Iter: 182/183 | Train Loss: 0.4147 | lr: 9.046039886902864e-06: 100%|\u001b[36m██████████\u001b[0m| 183/183 [02:28<00:00,  1.23it/s]\n"
     ]
    },
    {
     "name": "stdout",
     "output_type": "stream",
     "text": [
      "VAL| Acc:0.0803  | mIOU: 0.0635 | Dice: 0.0903 | Test Loss: 0.4209| EStop: 3/100\n"
     ]
    },
    {
     "name": "stderr",
     "output_type": "stream",
     "text": [
      "TRAIN| Epoch: 34/1000| Iter: 182/183 | Train Loss: 0.4628 | lr: 7.940987335200904e-06: 100%|\u001b[36m██████████\u001b[0m| 183/183 [02:29<00:00,  1.23it/s]\n"
     ]
    },
    {
     "name": "stdout",
     "output_type": "stream",
     "text": [
      "VAL| Acc:0.0998  | mIOU: 0.0722 | Dice: 0.1044 | Test Loss: 0.4202| EStop: 0/100\n"
     ]
    },
    {
     "name": "stderr",
     "output_type": "stream",
     "text": [
      "TRAIN| Epoch: 35/1000| Iter: 182/183 | Train Loss: 0.3596 | lr: 6.548539886902863e-06: 100%|\u001b[36m██████████\u001b[0m| 183/183 [02:33<00:00,  1.19it/s]\n"
     ]
    },
    {
     "name": "stdout",
     "output_type": "stream",
     "text": [
      "VAL| Acc:0.0846  | mIOU: 0.0660 | Dice: 0.0943 | Test Loss: 0.4198| EStop: 1/100\n"
     ]
    },
    {
     "name": "stderr",
     "output_type": "stream",
     "text": [
      "TRAIN| Epoch: 36/1000| Iter: 182/183 | Train Loss: 0.4536 | lr: 5.005e-06: 100%|\u001b[36m██████████\u001b[0m| 183/183 [02:37<00:00,  1.16it/s]\n"
     ]
    },
    {
     "name": "stdout",
     "output_type": "stream",
     "text": [
      "VAL| Acc:0.0916  | mIOU: 0.0720 | Dice: 0.1049 | Test Loss: 0.4193| EStop: 2/100\n"
     ]
    },
    {
     "name": "stderr",
     "output_type": "stream",
     "text": [
      "TRAIN| Epoch: 37/1000| Iter: 182/183 | Train Loss: 0.3440 | lr: 3.4614601130971384e-06: 100%|\u001b[36m██████████\u001b[0m| 183/183 [02:34<00:00,  1.19it/s]\n"
     ]
    },
    {
     "name": "stdout",
     "output_type": "stream",
     "text": [
      "VAL| Acc:0.0850  | mIOU: 0.0659 | Dice: 0.0948 | Test Loss: 0.4190| EStop: 3/100\n"
     ]
    },
    {
     "name": "stderr",
     "output_type": "stream",
     "text": [
      "TRAIN| Epoch: 38/1000| Iter: 182/183 | Train Loss: 0.2824 | lr: 2.0690126647990974e-06: 100%|\u001b[36m██████████\u001b[0m| 183/183 [02:34<00:00,  1.18it/s]\n"
     ]
    },
    {
     "name": "stdout",
     "output_type": "stream",
     "text": [
      "VAL| Acc:0.0934  | mIOU: 0.0733 | Dice: 0.1068 | Test Loss: 0.4186| EStop: 0/100\n"
     ]
    },
    {
     "name": "stderr",
     "output_type": "stream",
     "text": [
      "TRAIN| Epoch: 39/1000| Iter: 182/183 | Train Loss: 0.2542 | lr: 9.63960113097138e-07: 100%|\u001b[36m██████████\u001b[0m| 183/183 [02:33<00:00,  1.19it/s]\n"
     ]
    },
    {
     "name": "stdout",
     "output_type": "stream",
     "text": [
      "VAL| Acc:0.0922  | mIOU: 0.0720 | Dice: 0.1045 | Test Loss: 0.4181| EStop: 1/100\n"
     ]
    },
    {
     "name": "stderr",
     "output_type": "stream",
     "text": [
      "TRAIN| Epoch: 40/1000| Iter: 182/183 | Train Loss: 0.4093 | lr: 2.5447270110570816e-07: 100%|\u001b[36m██████████\u001b[0m| 183/183 [02:34<00:00,  1.19it/s]\n"
     ]
    },
    {
     "name": "stdout",
     "output_type": "stream",
     "text": [
      "VAL| Acc:0.0952  | mIOU: 0.0746 | Dice: 0.1089 | Test Loss: 0.4177| EStop: 0/100\n"
     ]
    },
    {
     "name": "stderr",
     "output_type": "stream",
     "text": [
      "TRAIN| Epoch: 41/1000| Iter: 182/183 | Train Loss: 0.3490 | lr: 1e-05: 100%|\u001b[36m██████████\u001b[0m| 183/183 [02:33<00:00,  1.19it/s]\n"
     ]
    },
    {
     "name": "stdout",
     "output_type": "stream",
     "text": [
      "VAL| Acc:0.0850  | mIOU: 0.0658 | Dice: 0.0956 | Test Loss: 0.4174| EStop: 1/100\n"
     ]
    },
    {
     "name": "stderr",
     "output_type": "stream",
     "text": [
      "TRAIN| Epoch: 42/1000| Iter: 182/183 | Train Loss: 0.3603 | lr: 9.755527298894294e-06: 100%|\u001b[36m██████████\u001b[0m| 183/183 [02:35<00:00,  1.18it/s]\n"
     ]
    },
    {
     "name": "stdout",
     "output_type": "stream",
     "text": [
      "VAL| Acc:0.0850  | mIOU: 0.0629 | Dice: 0.0895 | Test Loss: 0.4171| EStop: 2/100\n"
     ]
    },
    {
     "name": "stderr",
     "output_type": "stream",
     "text": [
      "TRAIN| Epoch: 43/1000| Iter: 182/183 | Train Loss: 0.3587 | lr: 9.046039886902864e-06: 100%|\u001b[36m██████████\u001b[0m| 183/183 [02:31<00:00,  1.20it/s]\n"
     ]
    },
    {
     "name": "stdout",
     "output_type": "stream",
     "text": [
      "VAL| Acc:0.0923  | mIOU: 0.0694 | Dice: 0.1015 | Test Loss: 0.4168| EStop: 3/100\n"
     ]
    },
    {
     "name": "stderr",
     "output_type": "stream",
     "text": [
      "TRAIN| Epoch: 44/1000| Iter: 182/183 | Train Loss: 0.3098 | lr: 7.940987335200904e-06: 100%|\u001b[36m██████████\u001b[0m| 183/183 [02:38<00:00,  1.16it/s]\n"
     ]
    },
    {
     "name": "stdout",
     "output_type": "stream",
     "text": [
      "VAL| Acc:0.0919  | mIOU: 0.0692 | Dice: 0.1011 | Test Loss: 0.4164| EStop: 4/100\n"
     ]
    },
    {
     "name": "stderr",
     "output_type": "stream",
     "text": [
      "TRAIN| Epoch: 45/1000| Iter: 182/183 | Train Loss: 0.3838 | lr: 6.548539886902863e-06: 100%|\u001b[36m██████████\u001b[0m| 183/183 [02:29<00:00,  1.22it/s]\n"
     ]
    },
    {
     "name": "stdout",
     "output_type": "stream",
     "text": [
      "VAL| Acc:0.1010  | mIOU: 0.0737 | Dice: 0.1084 | Test Loss: 0.4160| EStop: 5/100\n"
     ]
    },
    {
     "name": "stderr",
     "output_type": "stream",
     "text": [
      "TRAIN| Epoch: 46/1000| Iter: 182/183 | Train Loss: 0.3343 | lr: 5.005e-06: 100%|\u001b[36m██████████\u001b[0m| 183/183 [02:33<00:00,  1.19it/s]\n"
     ]
    },
    {
     "name": "stdout",
     "output_type": "stream",
     "text": [
      "VAL| Acc:0.0991  | mIOU: 0.0764 | Dice: 0.1126 | Test Loss: 0.4156| EStop: 0/100\n"
     ]
    },
    {
     "name": "stderr",
     "output_type": "stream",
     "text": [
      "TRAIN| Epoch: 47/1000| Iter: 182/183 | Train Loss: 0.3727 | lr: 3.4614601130971384e-06: 100%|\u001b[36m██████████\u001b[0m| 183/183 [02:34<00:00,  1.18it/s]\n"
     ]
    },
    {
     "name": "stdout",
     "output_type": "stream",
     "text": [
      "VAL| Acc:0.1052  | mIOU: 0.0819 | Dice: 0.1218 | Test Loss: 0.4152| EStop: 0/100\n"
     ]
    },
    {
     "name": "stderr",
     "output_type": "stream",
     "text": [
      "TRAIN| Epoch: 48/1000| Iter: 182/183 | Train Loss: 0.4062 | lr: 2.0690126647990974e-06: 100%|\u001b[36m██████████\u001b[0m| 183/183 [02:34<00:00,  1.19it/s]\n"
     ]
    },
    {
     "name": "stdout",
     "output_type": "stream",
     "text": [
      "VAL| Acc:0.1071  | mIOU: 0.0811 | Dice: 0.1205 | Test Loss: 0.4148| EStop: 1/100\n"
     ]
    },
    {
     "name": "stderr",
     "output_type": "stream",
     "text": [
      "TRAIN| Epoch: 49/1000| Iter: 182/183 | Train Loss: 0.4110 | lr: 9.63960113097138e-07: 100%|\u001b[36m██████████\u001b[0m| 183/183 [02:38<00:00,  1.16it/s]\n"
     ]
    },
    {
     "name": "stdout",
     "output_type": "stream",
     "text": [
      "VAL| Acc:0.0989  | mIOU: 0.0785 | Dice: 0.1161 | Test Loss: 0.4144| EStop: 2/100\n"
     ]
    },
    {
     "name": "stderr",
     "output_type": "stream",
     "text": [
      "TRAIN| Epoch: 50/1000| Iter: 182/183 | Train Loss: 0.4271 | lr: 2.5447270110570816e-07: 100%|\u001b[36m██████████\u001b[0m| 183/183 [02:29<00:00,  1.23it/s]\n"
     ]
    },
    {
     "name": "stdout",
     "output_type": "stream",
     "text": [
      "VAL| Acc:0.1038  | mIOU: 0.0811 | Dice: 0.1204 | Test Loss: 0.4141| EStop: 3/100\n"
     ]
    },
    {
     "name": "stderr",
     "output_type": "stream",
     "text": [
      "TRAIN| Epoch: 51/1000| Iter: 182/183 | Train Loss: 0.3914 | lr: 1e-05: 100%|\u001b[36m██████████\u001b[0m| 183/183 [02:39<00:00,  1.15it/s]\n"
     ]
    },
    {
     "name": "stdout",
     "output_type": "stream",
     "text": [
      "VAL| Acc:0.0971  | mIOU: 0.0776 | Dice: 0.1144 | Test Loss: 0.4138| EStop: 4/100\n"
     ]
    },
    {
     "name": "stderr",
     "output_type": "stream",
     "text": [
      "TRAIN| Epoch: 52/1000| Iter: 182/183 | Train Loss: 0.3235 | lr: 9.755527298894294e-06: 100%|\u001b[36m██████████\u001b[0m| 183/183 [02:45<00:00,  1.11it/s]\n"
     ]
    },
    {
     "name": "stdout",
     "output_type": "stream",
     "text": [
      "VAL| Acc:0.0794  | mIOU: 0.0647 | Dice: 0.0938 | Test Loss: 0.4137| EStop: 5/100\n"
     ]
    },
    {
     "name": "stderr",
     "output_type": "stream",
     "text": [
      "TRAIN| Epoch: 53/1000| Iter: 182/183 | Train Loss: 0.3344 | lr: 9.046039886902864e-06: 100%|\u001b[36m██████████\u001b[0m| 183/183 [02:40<00:00,  1.14it/s]\n"
     ]
    },
    {
     "name": "stdout",
     "output_type": "stream",
     "text": [
      "VAL| Acc:0.1132  | mIOU: 0.0784 | Dice: 0.1155 | Test Loss: 0.4133| EStop: 6/100\n"
     ]
    },
    {
     "name": "stderr",
     "output_type": "stream",
     "text": [
      "TRAIN| Epoch: 54/1000| Iter: 182/183 | Train Loss: 0.4302 | lr: 7.940987335200904e-06: 100%|\u001b[36m██████████\u001b[0m| 183/183 [02:41<00:00,  1.13it/s]\n"
     ]
    },
    {
     "name": "stdout",
     "output_type": "stream",
     "text": [
      "VAL| Acc:0.1075  | mIOU: 0.0798 | Dice: 0.1185 | Test Loss: 0.4130| EStop: 7/100\n"
     ]
    },
    {
     "name": "stderr",
     "output_type": "stream",
     "text": [
      "TRAIN| Epoch: 55/1000| Iter: 182/183 | Train Loss: 0.2811 | lr: 6.548539886902863e-06: 100%|\u001b[36m██████████\u001b[0m| 183/183 [02:41<00:00,  1.13it/s]\n"
     ]
    },
    {
     "name": "stdout",
     "output_type": "stream",
     "text": [
      "VAL| Acc:0.1153  | mIOU: 0.0847 | Dice: 0.1263 | Test Loss: 0.4126| EStop: 0/100\n"
     ]
    },
    {
     "name": "stderr",
     "output_type": "stream",
     "text": [
      "TRAIN| Epoch: 56/1000| Iter: 182/183 | Train Loss: 0.2346 | lr: 5.005e-06: 100%|\u001b[36m██████████\u001b[0m| 183/183 [02:40<00:00,  1.14it/s]\n"
     ]
    },
    {
     "name": "stdout",
     "output_type": "stream",
     "text": [
      "VAL| Acc:0.1113  | mIOU: 0.0864 | Dice: 0.1293 | Test Loss: 0.4122| EStop: 0/100\n"
     ]
    },
    {
     "name": "stderr",
     "output_type": "stream",
     "text": [
      "TRAIN| Epoch: 57/1000| Iter: 182/183 | Train Loss: 0.2401 | lr: 3.4614601130971384e-06: 100%|\u001b[36m██████████\u001b[0m| 183/183 [02:42<00:00,  1.13it/s]\n"
     ]
    },
    {
     "name": "stdout",
     "output_type": "stream",
     "text": [
      "VAL| Acc:0.0990  | mIOU: 0.0793 | Dice: 0.1180 | Test Loss: 0.4120| EStop: 1/100\n"
     ]
    },
    {
     "name": "stderr",
     "output_type": "stream",
     "text": [
      "TRAIN| Epoch: 58/1000| Iter: 182/183 | Train Loss: 0.2698 | lr: 2.0690126647990974e-06: 100%|\u001b[36m██████████\u001b[0m| 183/183 [02:36<00:00,  1.17it/s]\n"
     ]
    },
    {
     "name": "stdout",
     "output_type": "stream",
     "text": [
      "VAL| Acc:0.1122  | mIOU: 0.0864 | Dice: 0.1287 | Test Loss: 0.4116| EStop: 2/100\n"
     ]
    },
    {
     "name": "stderr",
     "output_type": "stream",
     "text": [
      "TRAIN| Epoch: 59/1000| Iter: 182/183 | Train Loss: 0.2934 | lr: 9.63960113097138e-07: 100%|\u001b[36m██████████\u001b[0m| 183/183 [02:32<00:00,  1.20it/s]\n"
     ]
    },
    {
     "name": "stdout",
     "output_type": "stream",
     "text": [
      "VAL| Acc:0.1138  | mIOU: 0.0873 | Dice: 0.1310 | Test Loss: 0.4113| EStop: 0/100\n"
     ]
    },
    {
     "name": "stderr",
     "output_type": "stream",
     "text": [
      "TRAIN| Epoch: 60/1000| Iter: 182/183 | Train Loss: 0.3023 | lr: 2.5447270110570816e-07: 100%|\u001b[36m██████████\u001b[0m| 183/183 [02:33<00:00,  1.20it/s]\n"
     ]
    },
    {
     "name": "stdout",
     "output_type": "stream",
     "text": [
      "VAL| Acc:0.1157  | mIOU: 0.0885 | Dice: 0.1327 | Test Loss: 0.4110| EStop: 0/100\n"
     ]
    },
    {
     "name": "stderr",
     "output_type": "stream",
     "text": [
      "TRAIN| Epoch: 61/1000| Iter: 182/183 | Train Loss: 0.3636 | lr: 1e-05: 100%|\u001b[36m██████████\u001b[0m| 183/183 [02:31<00:00,  1.21it/s]\n"
     ]
    },
    {
     "name": "stdout",
     "output_type": "stream",
     "text": [
      "VAL| Acc:0.1029  | mIOU: 0.0774 | Dice: 0.1142 | Test Loss: 0.4107| EStop: 1/100\n"
     ]
    },
    {
     "name": "stderr",
     "output_type": "stream",
     "text": [
      "TRAIN| Epoch: 62/1000| Iter: 182/183 | Train Loss: 0.4287 | lr: 9.755527298894294e-06: 100%|\u001b[36m██████████\u001b[0m| 183/183 [02:34<00:00,  1.18it/s]\n"
     ]
    },
    {
     "name": "stdout",
     "output_type": "stream",
     "text": [
      "VAL| Acc:0.0980  | mIOU: 0.0740 | Dice: 0.1103 | Test Loss: 0.4105| EStop: 2/100\n"
     ]
    },
    {
     "name": "stderr",
     "output_type": "stream",
     "text": [
      "TRAIN| Epoch: 63/1000| Iter: 182/183 | Train Loss: 0.2593 | lr: 9.046039886902864e-06: 100%|\u001b[36m██████████\u001b[0m| 183/183 [02:33<00:00,  1.19it/s]\n"
     ]
    },
    {
     "name": "stdout",
     "output_type": "stream",
     "text": [
      "VAL| Acc:0.0993  | mIOU: 0.0742 | Dice: 0.1088 | Test Loss: 0.4103| EStop: 3/100\n"
     ]
    },
    {
     "name": "stderr",
     "output_type": "stream",
     "text": [
      "TRAIN| Epoch: 64/1000| Iter: 182/183 | Train Loss: 0.2846 | lr: 7.940987335200904e-06: 100%|\u001b[36m██████████\u001b[0m| 183/183 [02:36<00:00,  1.17it/s]\n"
     ]
    },
    {
     "name": "stdout",
     "output_type": "stream",
     "text": [
      "VAL| Acc:0.0928  | mIOU: 0.0735 | Dice: 0.1078 | Test Loss: 0.4102| EStop: 4/100\n"
     ]
    },
    {
     "name": "stderr",
     "output_type": "stream",
     "text": [
      "TRAIN| Epoch: 65/1000| Iter: 182/183 | Train Loss: 0.3910 | lr: 6.548539886902863e-06: 100%|\u001b[36m██████████\u001b[0m| 183/183 [02:32<00:00,  1.20it/s]\n"
     ]
    },
    {
     "name": "stdout",
     "output_type": "stream",
     "text": [
      "VAL| Acc:0.1072  | mIOU: 0.0818 | Dice: 0.1220 | Test Loss: 0.4100| EStop: 5/100\n"
     ]
    },
    {
     "name": "stderr",
     "output_type": "stream",
     "text": [
      "TRAIN| Epoch: 66/1000| Iter: 182/183 | Train Loss: 0.2752 | lr: 5.005e-06: 100%|\u001b[36m██████████\u001b[0m| 183/183 [02:35<00:00,  1.18it/s]\n"
     ]
    },
    {
     "name": "stdout",
     "output_type": "stream",
     "text": [
      "VAL| Acc:0.1288  | mIOU: 0.0938 | Dice: 0.1415 | Test Loss: 0.4096| EStop: 0/100\n"
     ]
    },
    {
     "name": "stderr",
     "output_type": "stream",
     "text": [
      "TRAIN| Epoch: 67/1000| Iter: 182/183 | Train Loss: 0.3934 | lr: 3.4614601130971384e-06: 100%|\u001b[36m██████████\u001b[0m| 183/183 [02:31<00:00,  1.20it/s]\n"
     ]
    },
    {
     "name": "stdout",
     "output_type": "stream",
     "text": [
      "VAL| Acc:0.1057  | mIOU: 0.0811 | Dice: 0.1211 | Test Loss: 0.4094| EStop: 1/100\n"
     ]
    },
    {
     "name": "stderr",
     "output_type": "stream",
     "text": [
      "TRAIN| Epoch: 68/1000| Iter: 182/183 | Train Loss: 0.3115 | lr: 2.0690126647990974e-06: 100%|\u001b[36m██████████\u001b[0m| 183/183 [02:34<00:00,  1.19it/s]\n"
     ]
    },
    {
     "name": "stdout",
     "output_type": "stream",
     "text": [
      "VAL| Acc:0.1231  | mIOU: 0.0921 | Dice: 0.1395 | Test Loss: 0.4090| EStop: 2/100\n"
     ]
    },
    {
     "name": "stderr",
     "output_type": "stream",
     "text": [
      "TRAIN| Epoch: 69/1000| Iter: 182/183 | Train Loss: 0.4183 | lr: 9.63960113097138e-07: 100%|\u001b[36m██████████\u001b[0m| 183/183 [02:38<00:00,  1.16it/s]\n"
     ]
    },
    {
     "name": "stdout",
     "output_type": "stream",
     "text": [
      "VAL| Acc:0.1171  | mIOU: 0.0892 | Dice: 0.1345 | Test Loss: 0.4088| EStop: 3/100\n"
     ]
    },
    {
     "name": "stderr",
     "output_type": "stream",
     "text": [
      "TRAIN| Epoch: 70/1000| Iter: 182/183 | Train Loss: 0.2730 | lr: 2.5447270110570816e-07: 100%|\u001b[36m██████████\u001b[0m| 183/183 [02:31<00:00,  1.21it/s]\n"
     ]
    },
    {
     "name": "stdout",
     "output_type": "stream",
     "text": [
      "VAL| Acc:0.1193  | mIOU: 0.0903 | Dice: 0.1364 | Test Loss: 0.4085| EStop: 4/100\n"
     ]
    },
    {
     "name": "stderr",
     "output_type": "stream",
     "text": [
      "TRAIN| Epoch: 71/1000| Iter: 46/183 | Train Loss: 0.3848 | lr: 1e-05:  26%|\u001b[36m██▌       \u001b[0m| 47/183 [00:56<02:42,  1.19s/it]\n"
     ]
    },
    {
     "ename": "RuntimeError",
     "evalue": "CUDA error: invalid argument\nCUDA kernel errors might be asynchronously reported at some other API call, so the stacktrace below might be incorrect.\nFor debugging consider passing CUDA_LAUNCH_BLOCKING=1.\nCompile with `TORCH_USE_CUDA_DSA` to enable device-side assertions.\n",
     "output_type": "error",
     "traceback": [
      "\u001b[0;31m---------------------------------------------------------------------------\u001b[0m",
      "\u001b[0;31mRuntimeError\u001b[0m                              Traceback (most recent call last)",
      "Cell \u001b[0;32mIn[17], line 16\u001b[0m\n\u001b[1;32m     14\u001b[0m num_classes \u001b[38;5;241m=\u001b[39m \u001b[38;5;241m21\u001b[39m\n\u001b[1;32m     15\u001b[0m \u001b[38;5;66;03m# Start training\u001b[39;00m\n\u001b[0;32m---> 16\u001b[0m \u001b[43mmain\u001b[49m\u001b[43m(\u001b[49m\u001b[43mlearning_rate\u001b[49m\u001b[43m,\u001b[49m\u001b[43mbatch_size\u001b[49m\u001b[43m,\u001b[49m\u001b[43mepochs\u001b[49m\u001b[43m,\u001b[49m\u001b[43mnum_workers\u001b[49m\u001b[43m,\u001b[49m\u001b[43mdata_path\u001b[49m\u001b[43m,\u001b[49m\u001b[43mmodel_save_path\u001b[49m\u001b[43m,\u001b[49m\n\u001b[1;32m     17\u001b[0m \u001b[43m    \u001b[49m\u001b[43mtensorboard_path\u001b[49m\u001b[43m,\u001b[49m\u001b[43mnum_classes\u001b[49m\u001b[43m,\u001b[49m\u001b[43mmodel_save_path\u001b[49m\u001b[43m)\u001b[49m\n\u001b[1;32m     18\u001b[0m \u001b[38;5;28;01mpass\u001b[39;00m\n",
      "Cell \u001b[0;32mIn[16], line 80\u001b[0m, in \u001b[0;36mmain\u001b[0;34m(learning_rate, batch_size, epochs, num_workers, data_path, model_save_path, tensorboard_path, num_classes, checkpoint_path)\u001b[0m\n\u001b[1;32m     77\u001b[0m target_meter\u001b[38;5;241m.\u001b[39mreset()\n\u001b[1;32m     79\u001b[0m \u001b[38;5;66;03m#Start training model\u001b[39;00m\n\u001b[0;32m---> 80\u001b[0m train_loss \u001b[38;5;241m=\u001b[39m \u001b[43mtrain\u001b[49m\u001b[43m(\u001b[49m\u001b[43mmodel\u001b[49m\u001b[43m,\u001b[49m\u001b[43mtrain_dataloader\u001b[49m\u001b[43m,\u001b[49m\u001b[43mdevice\u001b[49m\u001b[43m,\u001b[49m\u001b[43m \u001b[49m\u001b[43moptimizer\u001b[49m\u001b[43m,\u001b[49m\u001b[43m \u001b[49m\u001b[43mscheduler\u001b[49m\u001b[43m,\u001b[49m\u001b[43m \u001b[49m\u001b[43mepoch\u001b[49m\u001b[43m,\u001b[49m\u001b[43m \u001b[49m\u001b[43mepochs\u001b[49m\u001b[43m,\u001b[49m\u001b[43m \u001b[49m\u001b[43mwriter\u001b[49m\u001b[43m,\u001b[49m\u001b[43m \u001b[49m\u001b[43mtrain_loss_meter\u001b[49m\u001b[43m,\u001b[49m\u001b[43mcriterion\u001b[49m\u001b[43m,\u001b[49m\u001b[43m \u001b[49m\u001b[43mmodel_parent\u001b[49m\u001b[43m)\u001b[49m\n\u001b[1;32m     81\u001b[0m acc, miou, dice, test_loss \u001b[38;5;241m=\u001b[39m evaluate(model,val_dataloader,device, num_classes, intersection_meter, union_meter, target_meter, test_loss_meter, criterion)\n\u001b[1;32m     82\u001b[0m scheduler\u001b[38;5;241m.\u001b[39mstep()\n",
      "Cell \u001b[0;32mIn[13], line 15\u001b[0m, in \u001b[0;36mtrain\u001b[0;34m(model, train_dataloader, device, optimizer, scheduler, epoch, EPOCHS, writer, train_loss_meter, criterion, model_teacher)\u001b[0m\n\u001b[1;32m     11\u001b[0m mask \u001b[38;5;241m=\u001b[39m img_mask[\u001b[38;5;241m1\u001b[39m]\u001b[38;5;241m.\u001b[39mlong()\u001b[38;5;241m.\u001b[39mto(device) \u001b[38;5;66;03m#label - B,H,W\u001b[39;00m\n\u001b[1;32m     12\u001b[0m \u001b[38;5;66;03m# y_pred = model(img).logits #B, 21, H, W\u001b[39;00m\n\u001b[1;32m     13\u001b[0m \u001b[38;5;66;03m# y_pred =  upsample(y_pred)\u001b[39;00m\n\u001b[0;32m---> 15\u001b[0m y_pred \u001b[38;5;241m=\u001b[39m \u001b[43mmodel\u001b[49m\u001b[43m(\u001b[49m\u001b[43mimg\u001b[49m\u001b[43m)\u001b[49m\n\u001b[1;32m     16\u001b[0m \u001b[38;5;66;03m# print(F.softmax(y_pred, dim=1).shape)\u001b[39;00m\n\u001b[1;32m     17\u001b[0m \n\u001b[1;32m     18\u001b[0m \u001b[38;5;66;03m# print(F.softmax(y_pred, dim=1))\u001b[39;00m\n\u001b[1;32m     19\u001b[0m \u001b[38;5;66;03m# print(F.softmax(y_pred, dim=1).argmax(dim=1).shape)\u001b[39;00m\n\u001b[1;32m     20\u001b[0m \n\u001b[1;32m     21\u001b[0m \u001b[38;5;66;03m# print(F.softmax(y_pred, dim=1).argmax(dim=1))\u001b[39;00m\n\u001b[1;32m     24\u001b[0m \u001b[38;5;28;01mwith\u001b[39;00m torch\u001b[38;5;241m.\u001b[39mno_grad():\n",
      "File \u001b[0;32m~/miniconda3/envs/ccp/lib/python3.11/site-packages/torch/nn/modules/module.py:1518\u001b[0m, in \u001b[0;36mModule._wrapped_call_impl\u001b[0;34m(self, *args, **kwargs)\u001b[0m\n\u001b[1;32m   1516\u001b[0m     \u001b[38;5;28;01mreturn\u001b[39;00m \u001b[38;5;28mself\u001b[39m\u001b[38;5;241m.\u001b[39m_compiled_call_impl(\u001b[38;5;241m*\u001b[39margs, \u001b[38;5;241m*\u001b[39m\u001b[38;5;241m*\u001b[39mkwargs)  \u001b[38;5;66;03m# type: ignore[misc]\u001b[39;00m\n\u001b[1;32m   1517\u001b[0m \u001b[38;5;28;01melse\u001b[39;00m:\n\u001b[0;32m-> 1518\u001b[0m     \u001b[38;5;28;01mreturn\u001b[39;00m \u001b[38;5;28;43mself\u001b[39;49m\u001b[38;5;241;43m.\u001b[39;49m\u001b[43m_call_impl\u001b[49m\u001b[43m(\u001b[49m\u001b[38;5;241;43m*\u001b[39;49m\u001b[43margs\u001b[49m\u001b[43m,\u001b[49m\u001b[43m \u001b[49m\u001b[38;5;241;43m*\u001b[39;49m\u001b[38;5;241;43m*\u001b[39;49m\u001b[43mkwargs\u001b[49m\u001b[43m)\u001b[49m\n",
      "File \u001b[0;32m~/miniconda3/envs/ccp/lib/python3.11/site-packages/torch/nn/modules/module.py:1527\u001b[0m, in \u001b[0;36mModule._call_impl\u001b[0;34m(self, *args, **kwargs)\u001b[0m\n\u001b[1;32m   1522\u001b[0m \u001b[38;5;66;03m# If we don't have any hooks, we want to skip the rest of the logic in\u001b[39;00m\n\u001b[1;32m   1523\u001b[0m \u001b[38;5;66;03m# this function, and just call forward.\u001b[39;00m\n\u001b[1;32m   1524\u001b[0m \u001b[38;5;28;01mif\u001b[39;00m \u001b[38;5;129;01mnot\u001b[39;00m (\u001b[38;5;28mself\u001b[39m\u001b[38;5;241m.\u001b[39m_backward_hooks \u001b[38;5;129;01mor\u001b[39;00m \u001b[38;5;28mself\u001b[39m\u001b[38;5;241m.\u001b[39m_backward_pre_hooks \u001b[38;5;129;01mor\u001b[39;00m \u001b[38;5;28mself\u001b[39m\u001b[38;5;241m.\u001b[39m_forward_hooks \u001b[38;5;129;01mor\u001b[39;00m \u001b[38;5;28mself\u001b[39m\u001b[38;5;241m.\u001b[39m_forward_pre_hooks\n\u001b[1;32m   1525\u001b[0m         \u001b[38;5;129;01mor\u001b[39;00m _global_backward_pre_hooks \u001b[38;5;129;01mor\u001b[39;00m _global_backward_hooks\n\u001b[1;32m   1526\u001b[0m         \u001b[38;5;129;01mor\u001b[39;00m _global_forward_hooks \u001b[38;5;129;01mor\u001b[39;00m _global_forward_pre_hooks):\n\u001b[0;32m-> 1527\u001b[0m     \u001b[38;5;28;01mreturn\u001b[39;00m \u001b[43mforward_call\u001b[49m\u001b[43m(\u001b[49m\u001b[38;5;241;43m*\u001b[39;49m\u001b[43margs\u001b[49m\u001b[43m,\u001b[49m\u001b[43m \u001b[49m\u001b[38;5;241;43m*\u001b[39;49m\u001b[38;5;241;43m*\u001b[39;49m\u001b[43mkwargs\u001b[49m\u001b[43m)\u001b[49m\n\u001b[1;32m   1529\u001b[0m \u001b[38;5;28;01mtry\u001b[39;00m:\n\u001b[1;32m   1530\u001b[0m     result \u001b[38;5;241m=\u001b[39m \u001b[38;5;28;01mNone\u001b[39;00m\n",
      "File \u001b[0;32m~/yumin/CCP_2024/segformer.py:401\u001b[0m, in \u001b[0;36mSegformer_b3.forward\u001b[0;34m(self, x)\u001b[0m\n\u001b[1;32m    400\u001b[0m \u001b[38;5;28;01mdef\u001b[39;00m \u001b[38;5;21mforward\u001b[39m(\u001b[38;5;28mself\u001b[39m, x):\n\u001b[0;32m--> 401\u001b[0m     layer_outputs \u001b[38;5;241m=\u001b[39m \u001b[38;5;28;43mself\u001b[39;49m\u001b[38;5;241;43m.\u001b[39;49m\u001b[43mmit\u001b[49m\u001b[43m(\u001b[49m\u001b[43mx\u001b[49m\u001b[43m,\u001b[49m\u001b[43m \u001b[49m\u001b[43mreturn_layer_outputs\u001b[49m\u001b[43m \u001b[49m\u001b[38;5;241;43m=\u001b[39;49m\u001b[43m \u001b[49m\u001b[38;5;28;43;01mTrue\u001b[39;49;00m\u001b[43m)\u001b[49m\n\u001b[1;32m    403\u001b[0m     fused \u001b[38;5;241m=\u001b[39m [to_fused(output) \u001b[38;5;28;01mfor\u001b[39;00m output, to_fused \u001b[38;5;129;01min\u001b[39;00m \u001b[38;5;28mzip\u001b[39m(layer_outputs, \u001b[38;5;28mself\u001b[39m\u001b[38;5;241m.\u001b[39mto_fused)]\n\u001b[1;32m    404\u001b[0m     fused \u001b[38;5;241m=\u001b[39m torch\u001b[38;5;241m.\u001b[39mcat(fused, dim \u001b[38;5;241m=\u001b[39m \u001b[38;5;241m1\u001b[39m)\n",
      "File \u001b[0;32m~/miniconda3/envs/ccp/lib/python3.11/site-packages/torch/nn/modules/module.py:1518\u001b[0m, in \u001b[0;36mModule._wrapped_call_impl\u001b[0;34m(self, *args, **kwargs)\u001b[0m\n\u001b[1;32m   1516\u001b[0m     \u001b[38;5;28;01mreturn\u001b[39;00m \u001b[38;5;28mself\u001b[39m\u001b[38;5;241m.\u001b[39m_compiled_call_impl(\u001b[38;5;241m*\u001b[39margs, \u001b[38;5;241m*\u001b[39m\u001b[38;5;241m*\u001b[39mkwargs)  \u001b[38;5;66;03m# type: ignore[misc]\u001b[39;00m\n\u001b[1;32m   1517\u001b[0m \u001b[38;5;28;01melse\u001b[39;00m:\n\u001b[0;32m-> 1518\u001b[0m     \u001b[38;5;28;01mreturn\u001b[39;00m \u001b[38;5;28;43mself\u001b[39;49m\u001b[38;5;241;43m.\u001b[39;49m\u001b[43m_call_impl\u001b[49m\u001b[43m(\u001b[49m\u001b[38;5;241;43m*\u001b[39;49m\u001b[43margs\u001b[49m\u001b[43m,\u001b[49m\u001b[43m \u001b[49m\u001b[38;5;241;43m*\u001b[39;49m\u001b[38;5;241;43m*\u001b[39;49m\u001b[43mkwargs\u001b[49m\u001b[43m)\u001b[49m\n",
      "File \u001b[0;32m~/miniconda3/envs/ccp/lib/python3.11/site-packages/torch/nn/modules/module.py:1527\u001b[0m, in \u001b[0;36mModule._call_impl\u001b[0;34m(self, *args, **kwargs)\u001b[0m\n\u001b[1;32m   1522\u001b[0m \u001b[38;5;66;03m# If we don't have any hooks, we want to skip the rest of the logic in\u001b[39;00m\n\u001b[1;32m   1523\u001b[0m \u001b[38;5;66;03m# this function, and just call forward.\u001b[39;00m\n\u001b[1;32m   1524\u001b[0m \u001b[38;5;28;01mif\u001b[39;00m \u001b[38;5;129;01mnot\u001b[39;00m (\u001b[38;5;28mself\u001b[39m\u001b[38;5;241m.\u001b[39m_backward_hooks \u001b[38;5;129;01mor\u001b[39;00m \u001b[38;5;28mself\u001b[39m\u001b[38;5;241m.\u001b[39m_backward_pre_hooks \u001b[38;5;129;01mor\u001b[39;00m \u001b[38;5;28mself\u001b[39m\u001b[38;5;241m.\u001b[39m_forward_hooks \u001b[38;5;129;01mor\u001b[39;00m \u001b[38;5;28mself\u001b[39m\u001b[38;5;241m.\u001b[39m_forward_pre_hooks\n\u001b[1;32m   1525\u001b[0m         \u001b[38;5;129;01mor\u001b[39;00m _global_backward_pre_hooks \u001b[38;5;129;01mor\u001b[39;00m _global_backward_hooks\n\u001b[1;32m   1526\u001b[0m         \u001b[38;5;129;01mor\u001b[39;00m _global_forward_hooks \u001b[38;5;129;01mor\u001b[39;00m _global_forward_pre_hooks):\n\u001b[0;32m-> 1527\u001b[0m     \u001b[38;5;28;01mreturn\u001b[39;00m \u001b[43mforward_call\u001b[49m\u001b[43m(\u001b[49m\u001b[38;5;241;43m*\u001b[39;49m\u001b[43margs\u001b[49m\u001b[43m,\u001b[49m\u001b[43m \u001b[49m\u001b[38;5;241;43m*\u001b[39;49m\u001b[38;5;241;43m*\u001b[39;49m\u001b[43mkwargs\u001b[49m\u001b[43m)\u001b[49m\n\u001b[1;32m   1529\u001b[0m \u001b[38;5;28;01mtry\u001b[39;00m:\n\u001b[1;32m   1530\u001b[0m     result \u001b[38;5;241m=\u001b[39m \u001b[38;5;28;01mNone\u001b[39;00m\n",
      "File \u001b[0;32m~/yumin/CCP_2024/segformer.py:306\u001b[0m, in \u001b[0;36mMiT.forward\u001b[0;34m(self, x, return_layer_outputs)\u001b[0m\n\u001b[1;32m    304\u001b[0m x \u001b[38;5;241m=\u001b[39m overlap_embed(x)\n\u001b[1;32m    305\u001b[0m \u001b[38;5;28;01mfor\u001b[39;00m (attn, ff) \u001b[38;5;129;01min\u001b[39;00m layers:\n\u001b[0;32m--> 306\u001b[0m     x \u001b[38;5;241m=\u001b[39m \u001b[43mattn\u001b[49m\u001b[43m(\u001b[49m\u001b[43mx\u001b[49m\u001b[43m)\u001b[49m \u001b[38;5;241m+\u001b[39m x\n\u001b[1;32m    307\u001b[0m     x \u001b[38;5;241m=\u001b[39m ff(x) \u001b[38;5;241m+\u001b[39m x\n\u001b[1;32m    309\u001b[0m layer_outputs\u001b[38;5;241m.\u001b[39mappend(x)\n",
      "File \u001b[0;32m~/miniconda3/envs/ccp/lib/python3.11/site-packages/torch/nn/modules/module.py:1518\u001b[0m, in \u001b[0;36mModule._wrapped_call_impl\u001b[0;34m(self, *args, **kwargs)\u001b[0m\n\u001b[1;32m   1516\u001b[0m     \u001b[38;5;28;01mreturn\u001b[39;00m \u001b[38;5;28mself\u001b[39m\u001b[38;5;241m.\u001b[39m_compiled_call_impl(\u001b[38;5;241m*\u001b[39margs, \u001b[38;5;241m*\u001b[39m\u001b[38;5;241m*\u001b[39mkwargs)  \u001b[38;5;66;03m# type: ignore[misc]\u001b[39;00m\n\u001b[1;32m   1517\u001b[0m \u001b[38;5;28;01melse\u001b[39;00m:\n\u001b[0;32m-> 1518\u001b[0m     \u001b[38;5;28;01mreturn\u001b[39;00m \u001b[38;5;28;43mself\u001b[39;49m\u001b[38;5;241;43m.\u001b[39;49m\u001b[43m_call_impl\u001b[49m\u001b[43m(\u001b[49m\u001b[38;5;241;43m*\u001b[39;49m\u001b[43margs\u001b[49m\u001b[43m,\u001b[49m\u001b[43m \u001b[49m\u001b[38;5;241;43m*\u001b[39;49m\u001b[38;5;241;43m*\u001b[39;49m\u001b[43mkwargs\u001b[49m\u001b[43m)\u001b[49m\n",
      "File \u001b[0;32m~/miniconda3/envs/ccp/lib/python3.11/site-packages/torch/nn/modules/module.py:1527\u001b[0m, in \u001b[0;36mModule._call_impl\u001b[0;34m(self, *args, **kwargs)\u001b[0m\n\u001b[1;32m   1522\u001b[0m \u001b[38;5;66;03m# If we don't have any hooks, we want to skip the rest of the logic in\u001b[39;00m\n\u001b[1;32m   1523\u001b[0m \u001b[38;5;66;03m# this function, and just call forward.\u001b[39;00m\n\u001b[1;32m   1524\u001b[0m \u001b[38;5;28;01mif\u001b[39;00m \u001b[38;5;129;01mnot\u001b[39;00m (\u001b[38;5;28mself\u001b[39m\u001b[38;5;241m.\u001b[39m_backward_hooks \u001b[38;5;129;01mor\u001b[39;00m \u001b[38;5;28mself\u001b[39m\u001b[38;5;241m.\u001b[39m_backward_pre_hooks \u001b[38;5;129;01mor\u001b[39;00m \u001b[38;5;28mself\u001b[39m\u001b[38;5;241m.\u001b[39m_forward_hooks \u001b[38;5;129;01mor\u001b[39;00m \u001b[38;5;28mself\u001b[39m\u001b[38;5;241m.\u001b[39m_forward_pre_hooks\n\u001b[1;32m   1525\u001b[0m         \u001b[38;5;129;01mor\u001b[39;00m _global_backward_pre_hooks \u001b[38;5;129;01mor\u001b[39;00m _global_backward_hooks\n\u001b[1;32m   1526\u001b[0m         \u001b[38;5;129;01mor\u001b[39;00m _global_forward_hooks \u001b[38;5;129;01mor\u001b[39;00m _global_forward_pre_hooks):\n\u001b[0;32m-> 1527\u001b[0m     \u001b[38;5;28;01mreturn\u001b[39;00m \u001b[43mforward_call\u001b[49m\u001b[43m(\u001b[49m\u001b[38;5;241;43m*\u001b[39;49m\u001b[43margs\u001b[49m\u001b[43m,\u001b[49m\u001b[43m \u001b[49m\u001b[38;5;241;43m*\u001b[39;49m\u001b[38;5;241;43m*\u001b[39;49m\u001b[43mkwargs\u001b[49m\u001b[43m)\u001b[49m\n\u001b[1;32m   1529\u001b[0m \u001b[38;5;28;01mtry\u001b[39;00m:\n\u001b[1;32m   1530\u001b[0m     result \u001b[38;5;241m=\u001b[39m \u001b[38;5;28;01mNone\u001b[39;00m\n",
      "File \u001b[0;32m~/yumin/CCP_2024/segformer.py:53\u001b[0m, in \u001b[0;36mPreNorm.forward\u001b[0;34m(self, x)\u001b[0m\n\u001b[1;32m     52\u001b[0m \u001b[38;5;28;01mdef\u001b[39;00m \u001b[38;5;21mforward\u001b[39m(\u001b[38;5;28mself\u001b[39m, x):\n\u001b[0;32m---> 53\u001b[0m     \u001b[38;5;28;01mreturn\u001b[39;00m \u001b[38;5;28;43mself\u001b[39;49m\u001b[38;5;241;43m.\u001b[39;49m\u001b[43mfn\u001b[49m\u001b[43m(\u001b[49m\u001b[38;5;28;43mself\u001b[39;49m\u001b[38;5;241;43m.\u001b[39;49m\u001b[43mnorm\u001b[49m\u001b[43m(\u001b[49m\u001b[43mx\u001b[49m\u001b[43m)\u001b[49m\u001b[43m)\u001b[49m\n",
      "File \u001b[0;32m~/miniconda3/envs/ccp/lib/python3.11/site-packages/torch/nn/modules/module.py:1518\u001b[0m, in \u001b[0;36mModule._wrapped_call_impl\u001b[0;34m(self, *args, **kwargs)\u001b[0m\n\u001b[1;32m   1516\u001b[0m     \u001b[38;5;28;01mreturn\u001b[39;00m \u001b[38;5;28mself\u001b[39m\u001b[38;5;241m.\u001b[39m_compiled_call_impl(\u001b[38;5;241m*\u001b[39margs, \u001b[38;5;241m*\u001b[39m\u001b[38;5;241m*\u001b[39mkwargs)  \u001b[38;5;66;03m# type: ignore[misc]\u001b[39;00m\n\u001b[1;32m   1517\u001b[0m \u001b[38;5;28;01melse\u001b[39;00m:\n\u001b[0;32m-> 1518\u001b[0m     \u001b[38;5;28;01mreturn\u001b[39;00m \u001b[38;5;28;43mself\u001b[39;49m\u001b[38;5;241;43m.\u001b[39;49m\u001b[43m_call_impl\u001b[49m\u001b[43m(\u001b[49m\u001b[38;5;241;43m*\u001b[39;49m\u001b[43margs\u001b[49m\u001b[43m,\u001b[49m\u001b[43m \u001b[49m\u001b[38;5;241;43m*\u001b[39;49m\u001b[38;5;241;43m*\u001b[39;49m\u001b[43mkwargs\u001b[49m\u001b[43m)\u001b[49m\n",
      "File \u001b[0;32m~/miniconda3/envs/ccp/lib/python3.11/site-packages/torch/nn/modules/module.py:1527\u001b[0m, in \u001b[0;36mModule._call_impl\u001b[0;34m(self, *args, **kwargs)\u001b[0m\n\u001b[1;32m   1522\u001b[0m \u001b[38;5;66;03m# If we don't have any hooks, we want to skip the rest of the logic in\u001b[39;00m\n\u001b[1;32m   1523\u001b[0m \u001b[38;5;66;03m# this function, and just call forward.\u001b[39;00m\n\u001b[1;32m   1524\u001b[0m \u001b[38;5;28;01mif\u001b[39;00m \u001b[38;5;129;01mnot\u001b[39;00m (\u001b[38;5;28mself\u001b[39m\u001b[38;5;241m.\u001b[39m_backward_hooks \u001b[38;5;129;01mor\u001b[39;00m \u001b[38;5;28mself\u001b[39m\u001b[38;5;241m.\u001b[39m_backward_pre_hooks \u001b[38;5;129;01mor\u001b[39;00m \u001b[38;5;28mself\u001b[39m\u001b[38;5;241m.\u001b[39m_forward_hooks \u001b[38;5;129;01mor\u001b[39;00m \u001b[38;5;28mself\u001b[39m\u001b[38;5;241m.\u001b[39m_forward_pre_hooks\n\u001b[1;32m   1525\u001b[0m         \u001b[38;5;129;01mor\u001b[39;00m _global_backward_pre_hooks \u001b[38;5;129;01mor\u001b[39;00m _global_backward_hooks\n\u001b[1;32m   1526\u001b[0m         \u001b[38;5;129;01mor\u001b[39;00m _global_forward_hooks \u001b[38;5;129;01mor\u001b[39;00m _global_forward_pre_hooks):\n\u001b[0;32m-> 1527\u001b[0m     \u001b[38;5;28;01mreturn\u001b[39;00m \u001b[43mforward_call\u001b[49m\u001b[43m(\u001b[49m\u001b[38;5;241;43m*\u001b[39;49m\u001b[43margs\u001b[49m\u001b[43m,\u001b[49m\u001b[43m \u001b[49m\u001b[38;5;241;43m*\u001b[39;49m\u001b[38;5;241;43m*\u001b[39;49m\u001b[43mkwargs\u001b[49m\u001b[43m)\u001b[49m\n\u001b[1;32m   1529\u001b[0m \u001b[38;5;28;01mtry\u001b[39;00m:\n\u001b[1;32m   1530\u001b[0m     result \u001b[38;5;241m=\u001b[39m \u001b[38;5;28;01mNone\u001b[39;00m\n",
      "File \u001b[0;32m~/yumin/CCP_2024/segformer.py:72\u001b[0m, in \u001b[0;36mEfficientSelfAttention.forward\u001b[0;34m(self, x)\u001b[0m\n\u001b[1;32m     70\u001b[0m q, k, v \u001b[38;5;241m=\u001b[39m (\u001b[38;5;28mself\u001b[39m\u001b[38;5;241m.\u001b[39mto_q(x), \u001b[38;5;241m*\u001b[39m\u001b[38;5;28mself\u001b[39m\u001b[38;5;241m.\u001b[39mto_kv(x)\u001b[38;5;241m.\u001b[39mchunk(\u001b[38;5;241m2\u001b[39m, dim\u001b[38;5;241m=\u001b[39m\u001b[38;5;241m1\u001b[39m))\n\u001b[1;32m     71\u001b[0m \u001b[38;5;66;03m# print(f\"2 : x = {x.shape}, q = {q.shape}\")\u001b[39;00m\n\u001b[0;32m---> 72\u001b[0m q, k, v \u001b[38;5;241m=\u001b[39m \u001b[38;5;28mmap\u001b[39m(\u001b[38;5;28;01mlambda\u001b[39;00m t: rearrange(t, \u001b[38;5;124m'\u001b[39m\u001b[38;5;124mb (h c) x y -> (b h) (x y) c\u001b[39m\u001b[38;5;124m'\u001b[39m, h\u001b[38;5;241m=\u001b[39mheads), (q, k, v))\n\u001b[1;32m     74\u001b[0m \u001b[38;5;66;03m# q @ k.transpose(-2, -1) * self.scale\u001b[39;00m\n\u001b[1;32m     75\u001b[0m sim \u001b[38;5;241m=\u001b[39m einsum(\u001b[38;5;124m'\u001b[39m\u001b[38;5;124mb i d, b j d -> b i j\u001b[39m\u001b[38;5;124m'\u001b[39m, q, k) \u001b[38;5;241m*\u001b[39m \u001b[38;5;28mself\u001b[39m\u001b[38;5;241m.\u001b[39mscale\n",
      "File \u001b[0;32m~/yumin/CCP_2024/segformer.py:72\u001b[0m, in \u001b[0;36mEfficientSelfAttention.forward.<locals>.<lambda>\u001b[0;34m(t)\u001b[0m\n\u001b[1;32m     70\u001b[0m q, k, v \u001b[38;5;241m=\u001b[39m (\u001b[38;5;28mself\u001b[39m\u001b[38;5;241m.\u001b[39mto_q(x), \u001b[38;5;241m*\u001b[39m\u001b[38;5;28mself\u001b[39m\u001b[38;5;241m.\u001b[39mto_kv(x)\u001b[38;5;241m.\u001b[39mchunk(\u001b[38;5;241m2\u001b[39m, dim\u001b[38;5;241m=\u001b[39m\u001b[38;5;241m1\u001b[39m))\n\u001b[1;32m     71\u001b[0m \u001b[38;5;66;03m# print(f\"2 : x = {x.shape}, q = {q.shape}\")\u001b[39;00m\n\u001b[0;32m---> 72\u001b[0m q, k, v \u001b[38;5;241m=\u001b[39m \u001b[38;5;28mmap\u001b[39m(\u001b[38;5;28;01mlambda\u001b[39;00m t: \u001b[43mrearrange\u001b[49m\u001b[43m(\u001b[49m\u001b[43mt\u001b[49m\u001b[43m,\u001b[49m\u001b[43m \u001b[49m\u001b[38;5;124;43m'\u001b[39;49m\u001b[38;5;124;43mb (h c) x y -> (b h) (x y) c\u001b[39;49m\u001b[38;5;124;43m'\u001b[39;49m\u001b[43m,\u001b[49m\u001b[43m \u001b[49m\u001b[43mh\u001b[49m\u001b[38;5;241;43m=\u001b[39;49m\u001b[43mheads\u001b[49m\u001b[43m)\u001b[49m, (q, k, v))\n\u001b[1;32m     74\u001b[0m \u001b[38;5;66;03m# q @ k.transpose(-2, -1) * self.scale\u001b[39;00m\n\u001b[1;32m     75\u001b[0m sim \u001b[38;5;241m=\u001b[39m einsum(\u001b[38;5;124m'\u001b[39m\u001b[38;5;124mb i d, b j d -> b i j\u001b[39m\u001b[38;5;124m'\u001b[39m, q, k) \u001b[38;5;241m*\u001b[39m \u001b[38;5;28mself\u001b[39m\u001b[38;5;241m.\u001b[39mscale\n",
      "File \u001b[0;32m~/miniconda3/envs/ccp/lib/python3.11/site-packages/einops/einops.py:591\u001b[0m, in \u001b[0;36mrearrange\u001b[0;34m(tensor, pattern, **axes_lengths)\u001b[0m\n\u001b[1;32m    536\u001b[0m \u001b[38;5;28;01mdef\u001b[39;00m \u001b[38;5;21mrearrange\u001b[39m(tensor: Union[Tensor, List[Tensor]], pattern: \u001b[38;5;28mstr\u001b[39m, \u001b[38;5;241m*\u001b[39m\u001b[38;5;241m*\u001b[39maxes_lengths) \u001b[38;5;241m-\u001b[39m\u001b[38;5;241m>\u001b[39m Tensor:\n\u001b[1;32m    537\u001b[0m \u001b[38;5;250m    \u001b[39m\u001b[38;5;124;03m\"\"\"\u001b[39;00m\n\u001b[1;32m    538\u001b[0m \u001b[38;5;124;03m    einops.rearrange is a reader-friendly smart element reordering for multidimensional tensors.\u001b[39;00m\n\u001b[1;32m    539\u001b[0m \u001b[38;5;124;03m    This operation includes functionality of transpose (axes permutation), reshape (view), squeeze, unsqueeze,\u001b[39;00m\n\u001b[0;32m   (...)\u001b[0m\n\u001b[1;32m    589\u001b[0m \n\u001b[1;32m    590\u001b[0m \u001b[38;5;124;03m    \"\"\"\u001b[39;00m\n\u001b[0;32m--> 591\u001b[0m     \u001b[38;5;28;01mreturn\u001b[39;00m \u001b[43mreduce\u001b[49m\u001b[43m(\u001b[49m\u001b[43mtensor\u001b[49m\u001b[43m,\u001b[49m\u001b[43m \u001b[49m\u001b[43mpattern\u001b[49m\u001b[43m,\u001b[49m\u001b[43m \u001b[49m\u001b[43mreduction\u001b[49m\u001b[38;5;241;43m=\u001b[39;49m\u001b[38;5;124;43m\"\u001b[39;49m\u001b[38;5;124;43mrearrange\u001b[39;49m\u001b[38;5;124;43m\"\u001b[39;49m\u001b[43m,\u001b[49m\u001b[43m \u001b[49m\u001b[38;5;241;43m*\u001b[39;49m\u001b[38;5;241;43m*\u001b[39;49m\u001b[43maxes_lengths\u001b[49m\u001b[43m)\u001b[49m\n",
      "File \u001b[0;32m~/miniconda3/envs/ccp/lib/python3.11/site-packages/einops/einops.py:523\u001b[0m, in \u001b[0;36mreduce\u001b[0;34m(tensor, pattern, reduction, **axes_lengths)\u001b[0m\n\u001b[1;32m    521\u001b[0m     shape \u001b[38;5;241m=\u001b[39m backend\u001b[38;5;241m.\u001b[39mshape(tensor)\n\u001b[1;32m    522\u001b[0m     recipe \u001b[38;5;241m=\u001b[39m _prepare_transformation_recipe(pattern, reduction, axes_names\u001b[38;5;241m=\u001b[39m\u001b[38;5;28mtuple\u001b[39m(axes_lengths), ndim\u001b[38;5;241m=\u001b[39m\u001b[38;5;28mlen\u001b[39m(shape))\n\u001b[0;32m--> 523\u001b[0m     \u001b[38;5;28;01mreturn\u001b[39;00m \u001b[43m_apply_recipe\u001b[49m\u001b[43m(\u001b[49m\n\u001b[1;32m    524\u001b[0m \u001b[43m        \u001b[49m\u001b[43mbackend\u001b[49m\u001b[43m,\u001b[49m\u001b[43m \u001b[49m\u001b[43mrecipe\u001b[49m\u001b[43m,\u001b[49m\u001b[43m \u001b[49m\u001b[43mcast\u001b[49m\u001b[43m(\u001b[49m\u001b[43mTensor\u001b[49m\u001b[43m,\u001b[49m\u001b[43m \u001b[49m\u001b[43mtensor\u001b[49m\u001b[43m)\u001b[49m\u001b[43m,\u001b[49m\u001b[43m \u001b[49m\u001b[43mreduction_type\u001b[49m\u001b[38;5;241;43m=\u001b[39;49m\u001b[43mreduction\u001b[49m\u001b[43m,\u001b[49m\u001b[43m \u001b[49m\u001b[43maxes_lengths\u001b[49m\u001b[38;5;241;43m=\u001b[39;49m\u001b[43mhashable_axes_lengths\u001b[49m\n\u001b[1;32m    525\u001b[0m \u001b[43m    \u001b[49m\u001b[43m)\u001b[49m\n\u001b[1;32m    526\u001b[0m \u001b[38;5;28;01mexcept\u001b[39;00m EinopsError \u001b[38;5;28;01mas\u001b[39;00m e:\n\u001b[1;32m    527\u001b[0m     message \u001b[38;5;241m=\u001b[39m \u001b[38;5;124m'\u001b[39m\u001b[38;5;124m Error while processing \u001b[39m\u001b[38;5;132;01m{}\u001b[39;00m\u001b[38;5;124m-reduction pattern \u001b[39m\u001b[38;5;124m\"\u001b[39m\u001b[38;5;132;01m{}\u001b[39;00m\u001b[38;5;124m\"\u001b[39m\u001b[38;5;124m.\u001b[39m\u001b[38;5;124m'\u001b[39m\u001b[38;5;241m.\u001b[39mformat(reduction, pattern)\n",
      "File \u001b[0;32m~/miniconda3/envs/ccp/lib/python3.11/site-packages/einops/einops.py:250\u001b[0m, in \u001b[0;36m_apply_recipe\u001b[0;34m(backend, recipe, tensor, reduction_type, axes_lengths)\u001b[0m\n\u001b[1;32m    248\u001b[0m     tensor \u001b[38;5;241m=\u001b[39m backend\u001b[38;5;241m.\u001b[39madd_axes(tensor, n_axes\u001b[38;5;241m=\u001b[39mn_axes_w_added, pos2len\u001b[38;5;241m=\u001b[39madded_axes)\n\u001b[1;32m    249\u001b[0m \u001b[38;5;28;01mif\u001b[39;00m final_shapes \u001b[38;5;129;01mis\u001b[39;00m \u001b[38;5;129;01mnot\u001b[39;00m \u001b[38;5;28;01mNone\u001b[39;00m:\n\u001b[0;32m--> 250\u001b[0m     tensor \u001b[38;5;241m=\u001b[39m \u001b[43mbackend\u001b[49m\u001b[38;5;241;43m.\u001b[39;49m\u001b[43mreshape\u001b[49m\u001b[43m(\u001b[49m\u001b[43mtensor\u001b[49m\u001b[43m,\u001b[49m\u001b[43m \u001b[49m\u001b[43mfinal_shapes\u001b[49m\u001b[43m)\u001b[49m\n\u001b[1;32m    251\u001b[0m \u001b[38;5;28;01mreturn\u001b[39;00m tensor\n",
      "File \u001b[0;32m~/miniconda3/envs/ccp/lib/python3.11/site-packages/einops/_backends.py:92\u001b[0m, in \u001b[0;36mAbstractBackend.reshape\u001b[0;34m(self, x, shape)\u001b[0m\n\u001b[1;32m     91\u001b[0m \u001b[38;5;28;01mdef\u001b[39;00m \u001b[38;5;21mreshape\u001b[39m(\u001b[38;5;28mself\u001b[39m, x, shape):\n\u001b[0;32m---> 92\u001b[0m     \u001b[38;5;28;01mreturn\u001b[39;00m \u001b[43mx\u001b[49m\u001b[38;5;241;43m.\u001b[39;49m\u001b[43mreshape\u001b[49m\u001b[43m(\u001b[49m\u001b[43mshape\u001b[49m\u001b[43m)\u001b[49m\n",
      "\u001b[0;31mRuntimeError\u001b[0m: CUDA error: invalid argument\nCUDA kernel errors might be asynchronously reported at some other API call, so the stacktrace below might be incorrect.\nFor debugging consider passing CUDA_LAUNCH_BLOCKING=1.\nCompile with `TORCH_USE_CUDA_DSA` to enable device-side assertions.\n"
     ]
    }
   ],
   "source": [
    "if __name__ == '__main__':\n",
    "    # Hyperparameters and paths\n",
    "    learning_rate = 1e-5\n",
    "    batch_size = 8\n",
    "    epochs = 1000\n",
    "    num_workers = os.cpu_count()\n",
    "    data_path = \"data\"\n",
    "    model_save_path = \"./working/trained_model\"\n",
    "    tensorboard_path = \"./working/tensorboard\"\n",
    "    if not os.path.exists(model_save_path):\n",
    "        os.makedirs(model_save_path)\n",
    "    if not os.path.exists(tensorboard_path):\n",
    "        os.makedirs(tensorboard_path)\n",
    "    num_classes = 21\n",
    "    # Start training\n",
    "    main(learning_rate,batch_size,epochs,num_workers,data_path,model_save_path,\n",
    "        tensorboard_path,num_classes,model_save_path)\n",
    "    pass"
   ]
  }
 ],
 "metadata": {
  "kernelspec": {
   "display_name": "ccp",
   "language": "python",
   "name": "python3"
  },
  "language_info": {
   "codemirror_mode": {
    "name": "ipython",
    "version": 3
   },
   "file_extension": ".py",
   "mimetype": "text/x-python",
   "name": "python",
   "nbconvert_exporter": "python",
   "pygments_lexer": "ipython3",
   "version": "3.11.9"
  }
 },
 "nbformat": 4,
 "nbformat_minor": 2
}
